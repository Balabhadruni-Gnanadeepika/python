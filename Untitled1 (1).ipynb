{
 "cells": [
  {
   "cell_type": "markdown",
   "id": "c327e800-6310-470e-bf0c-57d4d36b1058",
   "metadata": {},
   "source": [
    "#Variables\n",
    "A-Z a-z 0-9 and_\n",
    "keywords can't be variables\n",
    "case sensitive"
   ]
  },
  {
   "cell_type": "code",
   "execution_count": 9,
   "id": "b72f52fa-e1ac-4c8f-ac68-911971942d5c",
   "metadata": {},
   "outputs": [
    {
     "name": "stdout",
     "output_type": "stream",
     "text": [
      " Gnana Deepika \n"
     ]
    }
   ],
   "source": [
    "name_01 = \" Gnana Deepika \"\n",
    "print(name_01)"
   ]
  },
  {
   "cell_type": "code",
   "execution_count": 11,
   "id": "97021952-6e3a-4a0a-94c6-61d53863d216",
   "metadata": {},
   "outputs": [
    {
     "name": "stdout",
     "output_type": "stream",
     "text": [
      "2001\n"
     ]
    }
   ],
   "source": [
    "D_YOB_02= 2001\n",
    "print(D_YOB_02)"
   ]
  },
  {
   "cell_type": "code",
   "execution_count": 13,
   "id": "f4748230-974b-45cd-8d91-9c7006511de2",
   "metadata": {},
   "outputs": [
    {
     "name": "stdout",
     "output_type": "stream",
     "text": [
      "23\n"
     ]
    }
   ],
   "source": [
    "Deepika_Age_03 = 23\n",
    "print(Deepika_Age_03)"
   ]
  },
  {
   "cell_type": "code",
   "execution_count": 15,
   "id": "d5ad2927-1b95-4fee-bddf-b9e14ac419ad",
   "metadata": {},
   "outputs": [
    {
     "name": "stdout",
     "output_type": "stream",
     "text": [
      " Pace Institute Of technology\n"
     ]
    }
   ],
   "source": [
    "Clg_name_04=\" Pace Institute Of technology\"\n",
    "print(Clg_name_04)\n"
   ]
  },
  {
   "cell_type": "code",
   "execution_count": 17,
   "id": "e4029539-a838-4dc8-830b-658520d25a20",
   "metadata": {},
   "outputs": [
    {
     "name": "stdout",
     "output_type": "stream",
     "text": [
      "2023\n"
     ]
    }
   ],
   "source": [
    "_Year_of_passing_05 = 2023\n",
    "print(_Year_of_passing_05)"
   ]
  },
  {
   "cell_type": "code",
   "execution_count": 19,
   "id": "cc9b4292-d09c-4114-b08f-4b1759cbe93b",
   "metadata": {},
   "outputs": [
    {
     "name": "stdout",
     "output_type": "stream",
     "text": [
      "ECE\n"
     ]
    }
   ],
   "source": [
    "_stream_06 = \"ECE\"\n",
    "print(_stream_06)"
   ]
  },
  {
   "cell_type": "code",
   "execution_count": 21,
   "id": "05d04e71-1785-4abd-aa06-9c94aa473707",
   "metadata": {},
   "outputs": [
    {
     "name": "stdout",
     "output_type": "stream",
     "text": [
      "8.98\n"
     ]
    }
   ],
   "source": [
    "C_G_P_A_07= 8.98\n",
    "print(C_G_P_A_07)"
   ]
  },
  {
   "cell_type": "code",
   "execution_count": 23,
   "id": "a609d48b-1e40-40ac-b6b6-5e59d5b26adf",
   "metadata": {},
   "outputs": [
    {
     "name": "stdout",
     "output_type": "stream",
     "text": [
      "Ongole\n"
     ]
    }
   ],
   "source": [
    "Place_08= \"Ongole\"\n",
    "print(Place_08)"
   ]
  },
  {
   "cell_type": "code",
   "execution_count": 25,
   "id": "3e034e5a-2f5b-4f1c-b3a1-e8c6130955d4",
   "metadata": {},
   "outputs": [
    {
     "name": "stdout",
     "output_type": "stream",
     "text": [
      "AP\n"
     ]
    }
   ],
   "source": [
    "S_tate_09 =\"AP\"\n",
    "print(S_tate_09)"
   ]
  },
  {
   "cell_type": "code",
   "execution_count": 5,
   "id": "4e0ad3b3-157f-4968-b390-4fdae0006431",
   "metadata": {},
   "outputs": [
    {
     "name": "stdout",
     "output_type": "stream",
     "text": [
      "523001\n"
     ]
    }
   ],
   "source": [
    "Pin_code_10= 523001\n",
    "print(Pin_code_10)"
   ]
  },
  {
   "cell_type": "code",
   "execution_count": 27,
   "id": "3420b9d0-592e-4e42-9ca5-1dd00f299819",
   "metadata": {},
   "outputs": [
    {
     "ename": "SyntaxError",
     "evalue": "cannot assign to expression here. Maybe you meant '==' instead of '='? (2736679615.py, line 1)",
     "output_type": "error",
     "traceback": [
      "\u001b[1;36m  Cell \u001b[1;32mIn[27], line 1\u001b[1;36m\u001b[0m\n\u001b[1;33m    0.1-name=\"Deepika\"\u001b[0m\n\u001b[1;37m    ^\u001b[0m\n\u001b[1;31mSyntaxError\u001b[0m\u001b[1;31m:\u001b[0m cannot assign to expression here. Maybe you meant '==' instead of '='?\n"
     ]
    }
   ],
   "source": [
    "0.1-name=\"Deepika\"\n",
    "print(0.1-name)"
   ]
  },
  {
   "cell_type": "code",
   "execution_count": 29,
   "id": "4d1e3fa5-beea-4e59-af69-dec81478bb04",
   "metadata": {},
   "outputs": [
    {
     "ename": "SyntaxError",
     "evalue": "invalid syntax (41246249.py, line 1)",
     "output_type": "error",
     "traceback": [
      "\u001b[1;36m  Cell \u001b[1;32mIn[29], line 1\u001b[1;36m\u001b[0m\n\u001b[1;33m    ^_Pin = 523001\u001b[0m\n\u001b[1;37m    ^\u001b[0m\n\u001b[1;31mSyntaxError\u001b[0m\u001b[1;31m:\u001b[0m invalid syntax\n"
     ]
    }
   ],
   "source": [
    "^_Pin = 523001\n",
    "print(^_Pin)"
   ]
  },
  {
   "cell_type": "code",
   "execution_count": 31,
   "id": "c9321658-779f-4d12-950e-6bb278b6bf13",
   "metadata": {},
   "outputs": [
    {
     "ename": "SyntaxError",
     "evalue": "invalid syntax (2440567314.py, line 1)",
     "output_type": "error",
     "traceback": [
      "\u001b[1;36m  Cell \u001b[1;32mIn[31], line 1\u001b[1;36m\u001b[0m\n\u001b[1;33m    Year _ = 2001\u001b[0m\n\u001b[1;37m         ^\u001b[0m\n\u001b[1;31mSyntaxError\u001b[0m\u001b[1;31m:\u001b[0m invalid syntax\n"
     ]
    }
   ],
   "source": [
    "Year _ = 2001\n",
    "print(Year _ )"
   ]
  },
  {
   "cell_type": "code",
   "execution_count": 33,
   "id": "bfbb9fdd-ac0a-4698-9266-c816df0fd16f",
   "metadata": {},
   "outputs": [
    {
     "ename": "SyntaxError",
     "evalue": "invalid syntax (4109526200.py, line 1)",
     "output_type": "error",
     "traceback": [
      "\u001b[1;36m  Cell \u001b[1;32mIn[33], line 1\u001b[1;36m\u001b[0m\n\u001b[1;33m    2-_$_age= 23\u001b[0m\n\u001b[1;37m       ^\u001b[0m\n\u001b[1;31mSyntaxError\u001b[0m\u001b[1;31m:\u001b[0m invalid syntax\n"
     ]
    }
   ],
   "source": [
    "2-_$_age= 23\n",
    "print(2-_$_age)"
   ]
  },
  {
   "cell_type": "code",
   "execution_count": 35,
   "id": "50529f29-04fa-4c12-8f44-cfbd962f8e49",
   "metadata": {},
   "outputs": [
    {
     "ename": "SyntaxError",
     "evalue": "invalid syntax (3959175294.py, line 1)",
     "output_type": "error",
     "traceback": [
      "\u001b[1;36m  Cell \u001b[1;32mIn[35], line 1\u001b[1;36m\u001b[0m\n\u001b[1;33m    $$_@clg = \"pace\"\u001b[0m\n\u001b[1;37m    ^\u001b[0m\n\u001b[1;31mSyntaxError\u001b[0m\u001b[1;31m:\u001b[0m invalid syntax\n"
     ]
    }
   ],
   "source": [
    "$$_@clg = \"pace\"\n",
    "print($$_@clg)"
   ]
  },
  {
   "cell_type": "code",
   "execution_count": 37,
   "id": "d8ac0db1-ca8b-4278-89e3-7870cfae65fb",
   "metadata": {},
   "outputs": [
    {
     "ename": "SyntaxError",
     "evalue": "invalid syntax (2958751782.py, line 1)",
     "output_type": "error",
     "traceback": [
      "\u001b[1;36m  Cell \u001b[1;32mIn[37], line 1\u001b[1;36m\u001b[0m\n\u001b[1;33m    *_ passed year= 2023\u001b[0m\n\u001b[1;37m       ^\u001b[0m\n\u001b[1;31mSyntaxError\u001b[0m\u001b[1;31m:\u001b[0m invalid syntax\n"
     ]
    }
   ],
   "source": [
    "*_ passed year= 2023\n",
    "print(*_ passed year)"
   ]
  },
  {
   "cell_type": "code",
   "execution_count": 39,
   "id": "ac0ea2b3-b6b9-4a27-8f5a-2ea07f6cd60d",
   "metadata": {},
   "outputs": [
    {
     "ename": "SyntaxError",
     "evalue": "invalid syntax (2571941654.py, line 1)",
     "output_type": "error",
     "traceback": [
      "\u001b[1;36m  Cell \u001b[1;32mIn[39], line 1\u001b[1;36m\u001b[0m\n\u001b[1;33m    &_ stream = \"ece\"\u001b[0m\n\u001b[1;37m    ^\u001b[0m\n\u001b[1;31mSyntaxError\u001b[0m\u001b[1;31m:\u001b[0m invalid syntax\n"
     ]
    }
   ],
   "source": [
    "&_ stream = \"ece\"\n",
    "print(&_ stream)"
   ]
  },
  {
   "cell_type": "code",
   "execution_count": 41,
   "id": "c5fc6a2d-6310-4fff-9c5f-ce72dabcd23d",
   "metadata": {},
   "outputs": [
    {
     "ename": "SyntaxError",
     "evalue": "invalid syntax (287351903.py, line 2)",
     "output_type": "error",
     "traceback": [
      "\u001b[1;36m  Cell \u001b[1;32mIn[41], line 2\u001b[1;36m\u001b[0m\n\u001b[1;33m    print(%_ per)\u001b[0m\n\u001b[1;37m          ^\u001b[0m\n\u001b[1;31mSyntaxError\u001b[0m\u001b[1;31m:\u001b[0m invalid syntax\n"
     ]
    }
   ],
   "source": [
    "%_ per= 85\n",
    "print(%_ per)"
   ]
  },
  {
   "cell_type": "code",
   "execution_count": 43,
   "id": "7f57fc0a-1006-457e-9f9c-7958f836b1ca",
   "metadata": {},
   "outputs": [
    {
     "ename": "SyntaxError",
     "evalue": "invalid syntax. Maybe you meant '==' or ':=' instead of '='? (3830997306.py, line 1)",
     "output_type": "error",
     "traceback": [
      "\u001b[1;36m  Cell \u001b[1;32mIn[43], line 1\u001b[1;36m\u001b[0m\n\u001b[1;33m    @_PLace = \"Ong\"\u001b[0m\n\u001b[1;37m     ^\u001b[0m\n\u001b[1;31mSyntaxError\u001b[0m\u001b[1;31m:\u001b[0m invalid syntax. Maybe you meant '==' or ':=' instead of '='?\n"
     ]
    }
   ],
   "source": [
    "@_PLace = \"Ong\"\n",
    "print(@_PLace)"
   ]
  },
  {
   "cell_type": "code",
   "execution_count": 45,
   "id": "47bee801-97cb-4993-9f1b-b5911ce8d117",
   "metadata": {},
   "outputs": [
    {
     "ename": "SyntaxError",
     "evalue": "invalid syntax (2141511002.py, line 1)",
     "output_type": "error",
     "traceback": [
      "\u001b[1;36m  Cell \u001b[1;32mIn[45], line 1\u001b[1;36m\u001b[0m\n\u001b[1;33m    ^_s = \"ap\"\u001b[0m\n\u001b[1;37m    ^\u001b[0m\n\u001b[1;31mSyntaxError\u001b[0m\u001b[1;31m:\u001b[0m invalid syntax\n"
     ]
    }
   ],
   "source": [
    "^_s = \"ap\"\n",
    "print(^_s)"
   ]
  },
  {
   "cell_type": "code",
   "execution_count": null,
   "id": "cb0036f7-ba5a-4a8d-817a-e49d5c285dc2",
   "metadata": {},
   "outputs": [],
   "source": []
  }
 ],
 "metadata": {
  "kernelspec": {
   "display_name": "Python 3 (ipykernel)",
   "language": "python",
   "name": "python3"
  },
  "language_info": {
   "codemirror_mode": {
    "name": "ipython",
    "version": 3
   },
   "file_extension": ".py",
   "mimetype": "text/x-python",
   "name": "python",
   "nbconvert_exporter": "python",
   "pygments_lexer": "ipython3",
   "version": "3.11.7"
  }
 },
 "nbformat": 4,
 "nbformat_minor": 5
}
