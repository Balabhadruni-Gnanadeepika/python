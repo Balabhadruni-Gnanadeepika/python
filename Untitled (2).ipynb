{
 "cells": [
  {
   "cell_type": "code",
   "execution_count": 5,
   "id": "fd317bcb-6772-4161-8a4b-b7d32eedf550",
   "metadata": {},
   "outputs": [
    {
     "name": "stdout",
     "output_type": "stream",
     "text": [
      "Hello World\n"
     ]
    }
   ],
   "source": [
    "print(\"Hello World\")"
   ]
  },
  {
   "cell_type": "code",
   "execution_count": 1,
   "id": "f0d38b55-0519-4d61-857c-5ac0a18adf42",
   "metadata": {},
   "outputs": [
    {
     "name": "stdout",
     "output_type": "stream",
     "text": [
      "python version :  3.11.7 | packaged by Anaconda, Inc. | (main, Dec 15 2023, 18:05:47) [MSC v.1916 64 bit (AMD64)]\n"
     ]
    }
   ],
   "source": [
    "import sys\n",
    "\n",
    "#print only the python version as a string\n",
    "print(\"python version : \", sys.version)\n"
   ]
  },
  {
   "cell_type": "code",
   "execution_count": 3,
   "id": "8ab2204c-e04d-41a8-8a2e-306228def1a7",
   "metadata": {},
   "outputs": [
    {
     "name": "stdout",
     "output_type": "stream",
     "text": [
      "['False', 'None', 'True', 'and', 'as', 'assert', 'async', 'await', 'break', 'class', 'continue', 'def', 'del', 'elif', 'else', 'except', 'finally', 'for', 'from', 'global', 'if', 'import', 'in', 'is', 'lambda', 'nonlocal', 'not', 'or', 'pass', 'raise', 'return', 'try', 'while', 'with', 'yield']\n"
     ]
    },
    {
     "data": {
      "text/plain": [
       "35"
      ]
     },
     "execution_count": 3,
     "metadata": {},
     "output_type": "execute_result"
    }
   ],
   "source": [
    "import keyword \n",
    "\n",
    "#get the list of python keywords\n",
    "python_keywords = keyword.kwlist\n",
    "\n",
    "#Display the list of keywords \n",
    "print(python_keywords)\n",
    "\n",
    "len(python_keywords)\n"
   ]
  },
  {
   "cell_type": "code",
   "execution_count": 11,
   "id": "a2375175-ef6d-4025-8e7b-ff8e9efb90e4",
   "metadata": {},
   "outputs": [],
   "source": [
    "name_01 = \" Gnana Deepika \"\n",
    "D_YOB_02= 2001\n",
    "Deepika_Age_03 = 23\n",
    "Clg_name_04=\" Pace Institute Of technology\"\n",
    "_Year_of_passing_05 = 2023\n",
    "_stream_06 = \"ECE\"\n",
    "C_G_P_A_07= 8.98\n",
    "Place_08= \"Ongole\"\n",
    "S_tate_09 =\"AP\"\n",
    "Pin_code_10= 523001\n"
   ]
  },
  {
   "cell_type": "code",
   "execution_count": 17,
   "id": "f3164282-cf54-4c98-b8fc-44613e01530b",
   "metadata": {},
   "outputs": [
    {
     "ename": "SyntaxError",
     "evalue": "cannot assign to expression here. Maybe you meant '==' instead of '='? (3507653899.py, line 1)",
     "output_type": "error",
     "traceback": [
      "\u001b[1;36m  Cell \u001b[1;32mIn[17], line 1\u001b[1;36m\u001b[0m\n\u001b[1;33m    0.1-name=\"Deepika\"\u001b[0m\n\u001b[1;37m    ^\u001b[0m\n\u001b[1;31mSyntaxError\u001b[0m\u001b[1;31m:\u001b[0m cannot assign to expression here. Maybe you meant '==' instead of '='?\n"
     ]
    }
   ],
   "source": [
    "0.1-name=\"Deepika\"\n",
    "Year _ = 2001\n",
    "2-_$_age= 23\n",
    "$$_@clg = \"pace\"\n",
    "*_ passed year= 2023\n",
    "&_ stream = \"ece\"\n",
    "%_ per= 85\n",
    "@_PLace = \"Ong\"\n",
    "^_s = \"ap\"\n",
    "^_Pin = 523001"
   ]
  },
  {
   "cell_type": "code",
   "execution_count": null,
   "id": "1b45aca2-ab36-4438-9619-544caab06f5a",
   "metadata": {},
   "outputs": [],
   "source": []
  }
 ],
 "metadata": {
  "kernelspec": {
   "display_name": "Python 3 (ipykernel)",
   "language": "python",
   "name": "python3"
  },
  "language_info": {
   "codemirror_mode": {
    "name": "ipython",
    "version": 3
   },
   "file_extension": ".py",
   "mimetype": "text/x-python",
   "name": "python",
   "nbconvert_exporter": "python",
   "pygments_lexer": "ipython3",
   "version": "3.11.7"
  }
 },
 "nbformat": 4,
 "nbformat_minor": 5
}
