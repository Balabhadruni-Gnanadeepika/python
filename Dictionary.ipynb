{
 "cells": [
  {
   "cell_type": "markdown",
   "id": "80d549c4-d694-4ab8-924a-ee61ae56be1f",
   "metadata": {},
   "source": [
    "# Dictionary\n",
    "dictionaries (dict) are unordered collections of key-value pairs. They are mutable, meaning their contents can be changed after they are created. Dictionaries are widely used because they provide an efficient way to store and retrieve data based on keys rather than indices."
   ]
  },
  {
   "cell_type": "markdown",
   "id": "55308020-b068-4f54-8def-0a279fd123c2",
   "metadata": {},
   "source": [
    "* Creating a Dictionary\n",
    "Dictionaries are defined using curly braces {} and contain key-value pairs separated by commas. Keys are unique within a dictionary, but values can be duplicated."
   ]
  },
  {
   "cell_type": "code",
   "execution_count": 6,
   "id": "b2f6840c-c4c7-432e-b318-a0092004970d",
   "metadata": {},
   "outputs": [
    {
     "data": {
      "text/plain": [
       "{'name': 'John', 'age': 30, 'city': 'New York'}"
      ]
     },
     "execution_count": 6,
     "metadata": {},
     "output_type": "execute_result"
    }
   ],
   "source": [
    "my_dict = {'name': 'John', 'age': 30, 'city': 'New York'}\n",
    "empty_dict = {}\n",
    "my_dict\n"
   ]
  },
  {
   "cell_type": "markdown",
   "id": "f85de69a-0fae-4aa1-8ad4-2887901aa888",
   "metadata": {},
   "source": [
    "* Accessing Values in a Dictionary\n",
    "Values in a dictionary are accessed using keys inside square brackets [] or using the get() method:"
   ]
  },
  {
   "cell_type": "markdown",
   "id": "d2aa7fcf-c91d-47d0-b806-d85599fe0007",
   "metadata": {},
   "source": [
    "# Dictionary Methods\n",
    "* keys(): Returns a view object that displays a list of all the keys in the dictionary."
   ]
  },
  {
   "cell_type": "code",
   "execution_count": 10,
   "id": "bedbb44d-c68e-4366-bb89-f85b8afa5eb7",
   "metadata": {},
   "outputs": [
    {
     "name": "stdout",
     "output_type": "stream",
     "text": [
      "dict_keys(['name', 'age', 'city'])\n"
     ]
    }
   ],
   "source": [
    "print(my_dict.keys())  # Output: dict_keys(['name', 'age', 'city'])\n"
   ]
  },
  {
   "cell_type": "markdown",
   "id": "c792c33d-9ce5-48a0-a993-8d0d2ac321cc",
   "metadata": {},
   "source": [
    "* values(): Returns a view object that displays a list of all the values in the dictionary."
   ]
  },
  {
   "cell_type": "code",
   "execution_count": 15,
   "id": "853312ce-0682-4769-8b1a-505abef02c2e",
   "metadata": {},
   "outputs": [
    {
     "name": "stdout",
     "output_type": "stream",
     "text": [
      "dict_values(['John', 30, 'New York'])\n"
     ]
    }
   ],
   "source": [
    "print(my_dict.values())  # Output: dict_values(['John', 30, 'New York'])\n"
   ]
  },
  {
   "cell_type": "markdown",
   "id": "22cc50a2-8aae-42af-b821-6f2cdf17ad16",
   "metadata": {},
   "source": [
    "* items(): Returns a view object that displays a list of tuples containing key-value pairs."
   ]
  },
  {
   "cell_type": "code",
   "execution_count": 18,
   "id": "7574cbb2-b675-47bb-88f6-56e432592370",
   "metadata": {},
   "outputs": [
    {
     "name": "stdout",
     "output_type": "stream",
     "text": [
      "dict_items([('name', 'John'), ('age', 30), ('city', 'New York')])\n"
     ]
    }
   ],
   "source": [
    "print(my_dict.items())  # Output: dict_items([('name', 'John'), ('age', 30), ('city', 'New York')])\n"
   ]
  },
  {
   "cell_type": "markdown",
   "id": "1a214315-798e-491b-ab94-0f4a44e16b21",
   "metadata": {},
   "source": [
    "* get(key[, default]): Returns the value for the specified key. If the key does not exist, it returns the optional default value or None if not provided.\n"
   ]
  },
  {
   "cell_type": "code",
   "execution_count": 22,
   "id": "60095ed2-39da-42f0-ba01-d8458f468e40",
   "metadata": {},
   "outputs": [
    {
     "name": "stdout",
     "output_type": "stream",
     "text": [
      "John\n",
      "Unknown\n"
     ]
    }
   ],
   "source": [
    "print(my_dict.get('name'))  # Output: John\n",
    "print(my_dict.get('occupation', 'Unknown'))  # Output: Unknown (default value since 'occupation' key does not exist)\n"
   ]
  },
  {
   "cell_type": "markdown",
   "id": "bf9f8e1f-49e3-4d83-a5c6-2ef6ab9e1aec",
   "metadata": {},
   "source": [
    "* update(iterable): Updates the dictionary with key-value pairs from another dictionary or an iterable of key-value pairs."
   ]
  },
  {
   "cell_type": "code",
   "execution_count": 25,
   "id": "e5b49d33-1383-41f4-8be9-a77747498281",
   "metadata": {},
   "outputs": [
    {
     "name": "stdout",
     "output_type": "stream",
     "text": [
      "{'name': 'John', 'age': 31, 'city': 'New York', 'gender': 'Male'}\n"
     ]
    }
   ],
   "source": [
    "my_dict.update({'age': 31, 'gender': 'Male'})\n",
    "print(my_dict)  # Output: {'name': 'John', 'age': 31, 'city': 'New York', 'gender': 'Male'}\n"
   ]
  },
  {
   "cell_type": "markdown",
   "id": "723954af-675a-433b-b171-024e0b1ef759",
   "metadata": {},
   "source": [
    "* pop(key[, default]): Removes and returns the value associated with the specified key. If the key is not found, it returns the optional default value or raises a KeyError if not provided and the key is not found."
   ]
  },
  {
   "cell_type": "code",
   "execution_count": 29,
   "id": "d4e05a6d-6195-40f5-9b2e-3663ab09d419",
   "metadata": {},
   "outputs": [
    {
     "name": "stdout",
     "output_type": "stream",
     "text": [
      "31\n"
     ]
    }
   ],
   "source": [
    "age = my_dict.pop('age')\n",
    "print(age)  # Output: 31 (value associated with 'age' key)\n"
   ]
  },
  {
   "cell_type": "markdown",
   "id": "907903bd-e7e9-450a-a997-c8d015b7353d",
   "metadata": {},
   "source": [
    "* popitem(): Removes and returns the last inserted key-value pair as a tuple. If the dictionary is empty, raises a KeyError."
   ]
  },
  {
   "cell_type": "code",
   "execution_count": 33,
   "id": "c3538a6f-959d-47b5-9afe-b4360fa3a9a0",
   "metadata": {},
   "outputs": [
    {
     "name": "stdout",
     "output_type": "stream",
     "text": [
      "('gender', 'Male')\n"
     ]
    }
   ],
   "source": [
    "item = my_dict.popitem()\n",
    "print(item)  # Output: ('gender', 'Male') (last inserted key-value pair)\n"
   ]
  },
  {
   "cell_type": "markdown",
   "id": "fa2a652a-7302-483a-b6a0-c6d6d0a309e3",
   "metadata": {},
   "source": [
    "* clear(): Removes all key-value pairs from the dictionary."
   ]
  },
  {
   "cell_type": "code",
   "execution_count": 38,
   "id": "bce47799-1db0-4842-9009-b87b00827591",
   "metadata": {},
   "outputs": [
    {
     "data": {
      "text/plain": [
       "{'name': 'John', 'city': 'New York', 'age': 32}"
      ]
     },
     "execution_count": 38,
     "metadata": {},
     "output_type": "execute_result"
    }
   ],
   "source": [
    "my_dict['age'] = 32\n",
    "my_dict"
   ]
  },
  {
   "cell_type": "markdown",
   "id": "5dcdd202-03ad-405c-a45e-b9d48faee334",
   "metadata": {},
   "source": [
    "# Dictionary Operations\n",
    "* Updating Values: Assign a new value to an existing key:"
   ]
  },
  {
   "cell_type": "code",
   "execution_count": 42,
   "id": "4ae50ab8-f424-4863-ac82-90f8e5b37246",
   "metadata": {},
   "outputs": [
    {
     "data": {
      "text/plain": [
       "{'name': 'John', 'city': 'New York', 'age': 32}"
      ]
     },
     "execution_count": 42,
     "metadata": {},
     "output_type": "execute_result"
    }
   ],
   "source": [
    "my_dict['age'] = 32\n",
    "my_dict"
   ]
  },
  {
   "cell_type": "markdown",
   "id": "38e081ca-36a9-4e5f-aeab-70e1a17b60ab",
   "metadata": {},
   "source": [
    "* Adding New Items: Assign a new key-value pair to add it to the dictionary:"
   ]
  },
  {
   "cell_type": "code",
   "execution_count": 45,
   "id": "9c1c132b-ba0e-4ce4-a68a-098332b25ef1",
   "metadata": {},
   "outputs": [
    {
     "data": {
      "text/plain": [
       "{'name': 'John', 'city': 'New York', 'age': 32, 'occupation': 'Engineer'}"
      ]
     },
     "execution_count": 45,
     "metadata": {},
     "output_type": "execute_result"
    }
   ],
   "source": [
    "my_dict['occupation'] = 'Engineer'\n",
    "my_dict"
   ]
  },
  {
   "cell_type": "markdown",
   "id": "1d799c60-c47b-401a-ae8e-3bc16c1e25e4",
   "metadata": {},
   "source": [
    "* Deleting Items: Use del statement or pop() method to remove items from the dictionary:"
   ]
  },
  {
   "cell_type": "code",
   "execution_count": 48,
   "id": "ba61f3fb-f432-45c8-a5d8-9ef70f1ac3f1",
   "metadata": {},
   "outputs": [
    {
     "data": {
      "text/plain": [
       "{'name': 'John', 'age': 32, 'occupation': 'Engineer'}"
      ]
     },
     "execution_count": 48,
     "metadata": {},
     "output_type": "execute_result"
    }
   ],
   "source": [
    "del my_dict['city']\n",
    "my_dict"
   ]
  },
  {
   "cell_type": "markdown",
   "id": "5e47a65f-6eb3-476b-a07e-fa6980c5ffef",
   "metadata": {},
   "source": [
    "* Checking Membership: Use the in keyword to check if a key exists in the dictionary:"
   ]
  },
  {
   "cell_type": "code",
   "execution_count": 51,
   "id": "e952075a-e09f-437e-a02c-6bc3f0fba10c",
   "metadata": {},
   "outputs": [
    {
     "name": "stdout",
     "output_type": "stream",
     "text": [
      "Age is present\n"
     ]
    }
   ],
   "source": [
    "if 'age' in my_dict:\n",
    "    print('Age is present')\n"
   ]
  },
  {
   "cell_type": "markdown",
   "id": "7720cf87-8a3a-4266-83fb-4ab0241c0959",
   "metadata": {},
   "source": [
    "* Length: Use the len() function to get the number of key-value pairs in the dictionary:"
   ]
  },
  {
   "cell_type": "code",
   "execution_count": 54,
   "id": "63fb971d-af94-4e8f-b30b-cba442e30967",
   "metadata": {},
   "outputs": [
    {
     "name": "stdout",
     "output_type": "stream",
     "text": [
      "3\n"
     ]
    }
   ],
   "source": [
    "print(len(my_dict))  # Output: Number of items in my_dict\n"
   ]
  },
  {
   "cell_type": "code",
   "execution_count": null,
   "id": "9a173811-1d15-4297-b92a-51103b2fefbb",
   "metadata": {},
   "outputs": [],
   "source": []
  }
 ],
 "metadata": {
  "kernelspec": {
   "display_name": "Python 3 (ipykernel)",
   "language": "python",
   "name": "python3"
  },
  "language_info": {
   "codemirror_mode": {
    "name": "ipython",
    "version": 3
   },
   "file_extension": ".py",
   "mimetype": "text/x-python",
   "name": "python",
   "nbconvert_exporter": "python",
   "pygments_lexer": "ipython3",
   "version": "3.11.7"
  }
 },
 "nbformat": 4,
 "nbformat_minor": 5
}
