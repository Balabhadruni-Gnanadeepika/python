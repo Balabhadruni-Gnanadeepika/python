{
 "cells": [
  {
   "cell_type": "code",
   "execution_count": 11,
   "id": "41d83258-b1b4-420b-98ed-4697e6241bf5",
   "metadata": {},
   "outputs": [
    {
     "name": "stdout",
     "output_type": "stream",
     "text": [
      "100\n"
     ]
    }
   ],
   "source": [
    "n=100\n",
    "if n==n:\n",
    "    print(n)\n"
   ]
  },
  {
   "cell_type": "code",
   "execution_count": 35,
   "id": "eafb2bc6-e8a7-4215-9d4c-54c45f75d7b3",
   "metadata": {},
   "outputs": [
    {
     "name": "stdout",
     "output_type": "stream",
     "text": [
      "your lucky num is negative  -5\n"
     ]
    }
   ],
   "source": [
    "n=-5\n",
    "if n==0 :\n",
    "    print(\"your lucky num is zero \",n)\n",
    "elif n<0 :\n",
    "    print(\"your lucky num is negative \",n)\n",
    "else:\n",
    "    print(\"your lucky num  is positive \",n)\n",
    "    "
   ]
  },
  {
   "cell_type": "code",
   "execution_count": 39,
   "id": "a16bd83c-75da-4fc3-8f73-e2fefa0a64f5",
   "metadata": {},
   "outputs": [
    {
     "name": "stdout",
     "output_type": "stream",
     "text": [
      "my lucky number is  2\n"
     ]
    }
   ],
   "source": [
    "n =2 \n",
    "if n>0:\n",
    "    print(\"my lucky number is \", n)"
   ]
  },
  {
   "cell_type": "markdown",
   "id": "9ee3aa1e-cc75-4e34-9a88-c3287d58b85b",
   "metadata": {},
   "source": [
    "# Program 1\n",
    " Name of the Restaurant is Vamsi Restaurant and it has both veg items and non-veg items in the menu. Let's take min five veg items and five non veg items and if a coustumer ask one item then, we have to check in the menu it has those items or not if it is there in the menu then we have to get an output  \"ok your order is noted, please wait few mins we will serve it\".If the item asked by the customer is not in menu then the output is \"sry, we don't have that item \".  "
   ]
  },
  {
   "cell_type": "code",
   "execution_count": 11,
   "id": "86006c51-0b18-415c-b936-be0a0c77da24",
   "metadata": {},
   "outputs": [
    {
     "name": "stdout",
     "output_type": "stream",
     "text": [
      "Vamsi Restaurant\n"
     ]
    },
    {
     "name": "stdin",
     "output_type": "stream",
     "text": [
      " curry\n"
     ]
    },
    {
     "name": "stdout",
     "output_type": "stream",
     "text": [
      "sry, we don't have the item curry\n"
     ]
    }
   ],
   "source": [
    "# Vamsi Restaurant\n",
    "Restaurant_name = \"Vamsi Restaurant\"\n",
    "print(Restaurant_name)\n",
    "Veg_menu = [ \"veg manchuriya\", \"Paneer butter masala\",\" Paneer Tikka\", \"meal maker\",\"Veg Biriyani\", \"guttivankaya Pulav\",\"Allu capsicums\",\"Paneer Biriyani\"]\n",
    "Non_veg_menu = [ \"Mutton gosh\",\"paya soup\",\"Egg bujji\",\"Fish fry\",\"butter chicken\",\"Prawns pullav\",\"Thandhoory chicken\",\"chicken cola purry\",\"Country side chicken\",\"chicken Biriyani\"]\n",
    "Item_name = input()\n",
    "if Item_name in Veg_menu:\n",
    "    print(\"ok your order is noted, please wait few mins we will serve it.\")\n",
    "elif Item_name in Non_veg_menu:\n",
    "    print(\"ok your order is noted, please wait few mins we will serve it.\")\n",
    "else:\n",
    "    print(\"sry, we don't have the item\",Item_name)"
   ]
  },
  {
   "cell_type": "markdown",
   "id": "5048186a-aec6-410d-b2a9-7651803576e2",
   "metadata": {},
   "source": [
    "# Program 2\n",
    "Design a grading system using f-string "
   ]
  },
  {
   "cell_type": "code",
   "execution_count": 13,
   "id": "73aa8a73-9712-442e-ad72-38689087c642",
   "metadata": {},
   "outputs": [
    {
     "name": "stdin",
     "output_type": "stream",
     "text": [
      " 78\n",
      " deepika\n"
     ]
    },
    {
     "name": "stdout",
     "output_type": "stream",
     "text": [
      "deepika got 78 marks,So deepika get grade B.\n"
     ]
    }
   ],
   "source": [
    "n=int(input())\n",
    "name = input()\n",
    "if n>50 and n<60 :\n",
    "    f_s1= f\"{name} got {n} marks,So {name} get grade D.\"  \n",
    "    print(f_s1)\n",
    "elif n>60 and n<70 :\n",
    "    f_s2= f\"{name} got {n} marks,So {name} get grade C.\" \n",
    "    print(f_s2)\n",
    "elif n>70 and n<80 :\n",
    "    f_s3= f\"{name} got {n} marks,So {name} get grade B.\" \n",
    "    print(f_s3)\n",
    "elif n>80 and n<90 :\n",
    "    f_s4= f\"{name} got {n} marks,So {name} get grade A.\"\n",
    "    print(f_s4)\n",
    "elif n>90 and n<=100:\n",
    "    f_s5= f\"{name} got {n} marks,So {name} get grade A+.\"\n",
    "    print(f_s5)\n",
    "else :\n",
    "    print(f\"{name} got {n} marks,So {name} failed in the exam\")\n"
   ]
  },
  {
   "cell_type": "markdown",
   "id": "49f1838b-f992-43ed-923b-33180bdce2c0",
   "metadata": {},
   "source": [
    "# Program 3\n",
    "Finding the cabine of the each courses which student need to attend the class according to the courses they have joined . "
   ]
  },
  {
   "cell_type": "code",
   "execution_count": 7,
   "id": "2c763ee0-566d-4149-8781-15a74429e8b9",
   "metadata": {},
   "outputs": [
    {
     "name": "stdin",
     "output_type": "stream",
     "text": [
      " Data Science\n"
     ]
    },
    {
     "name": "stdout",
     "output_type": "stream",
     "text": [
      "Your Cabine number is 1\n"
     ]
    }
   ],
   "source": [
    "Course_name_cabine={\"Data Science\" : 1, \"Data Analyst\" : 2, \"Bussiness analyst\" : 3,\"Java Fullstack \" : 4,\"Python Fullstack\" : 5}\n",
    "student = input()\n",
    "if student in Course_name_cabine:\n",
    "    print(\"Your Cabine number is\",Course_name_cabine.get(student))\n",
    "else:\n",
    "    print(\"this course is not conducted today\")"
   ]
  },
  {
   "cell_type": "code",
   "execution_count": null,
   "id": "0e6fc807-328f-4294-9892-66ca006da386",
   "metadata": {},
   "outputs": [],
   "source": []
  }
 ],
 "metadata": {
  "kernelspec": {
   "display_name": "Python 3 (ipykernel)",
   "language": "python",
   "name": "python3"
  },
  "language_info": {
   "codemirror_mode": {
    "name": "ipython",
    "version": 3
   },
   "file_extension": ".py",
   "mimetype": "text/x-python",
   "name": "python",
   "nbconvert_exporter": "python",
   "pygments_lexer": "ipython3",
   "version": "3.11.7"
  }
 },
 "nbformat": 4,
 "nbformat_minor": 5
}
