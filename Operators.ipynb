{
 "cells": [
  {
   "cell_type": "markdown",
   "id": "f5c6d9ec-434d-4abe-b10d-bc553e13fd8a",
   "metadata": {},
   "source": [
    "# Python Operators\n"
   ]
  },
  {
   "cell_type": "markdown",
   "id": "0194a3ba-88ac-4750-a60d-97aad611c1e6",
   "metadata": {},
   "source": [
    "* Airthmetic operators\n",
    "* assignment operators\n",
    "* Comparision operators\n",
    "* Logical operators\n",
    "* Identity operators\n",
    "* Membership operators\n",
    "* Bitwise operators"
   ]
  },
  {
   "cell_type": "markdown",
   "id": "66ac364c-228c-4918-a9c1-5483ba4d7dc1",
   "metadata": {},
   "source": [
    "# Arithmetic Operators"
   ]
  },
  {
   "cell_type": "code",
   "execution_count": 5,
   "id": "810aa9b5-7b8d-4801-93e1-fcfe920cf4be",
   "metadata": {},
   "outputs": [],
   "source": [
    "a = 4\n",
    "b = 5"
   ]
  },
  {
   "cell_type": "code",
   "execution_count": 7,
   "id": "85178654-2d42-4bcc-9df7-ca773834c26a",
   "metadata": {},
   "outputs": [
    {
     "name": "stdout",
     "output_type": "stream",
     "text": [
      "9\n"
     ]
    }
   ],
   "source": [
    "#addition \n",
    "c=a+b\n",
    "print(c)"
   ]
  },
  {
   "cell_type": "code",
   "execution_count": 9,
   "id": "19fa6468-2338-4f4b-8e9b-16dd890c8d2c",
   "metadata": {},
   "outputs": [
    {
     "name": "stdout",
     "output_type": "stream",
     "text": [
      "-1\n"
     ]
    }
   ],
   "source": [
    "#subtraction\n",
    "c1=a-b\n",
    "print(c1)"
   ]
  },
  {
   "cell_type": "code",
   "execution_count": 13,
   "id": "effa44df-d6da-4d14-8c32-c123a8413a21",
   "metadata": {},
   "outputs": [
    {
     "name": "stdout",
     "output_type": "stream",
     "text": [
      "20\n"
     ]
    }
   ],
   "source": [
    "#multiplication\n",
    "c2=a*b                    \n",
    "print(c2)"
   ]
  },
  {
   "cell_type": "code",
   "execution_count": 15,
   "id": "eda2198e-5113-4405-9a9e-f45edac3926d",
   "metadata": {},
   "outputs": [
    {
     "name": "stdout",
     "output_type": "stream",
     "text": [
      "0.8\n"
     ]
    }
   ],
   "source": [
    "#division\n",
    "c3=a/b             # returns Quotient\n",
    "print(c3)"
   ]
  },
  {
   "cell_type": "code",
   "execution_count": 17,
   "id": "0e2e99e9-1b0e-4e95-919e-5b50dfbfd916",
   "metadata": {},
   "outputs": [
    {
     "name": "stdout",
     "output_type": "stream",
     "text": [
      "4\n"
     ]
    }
   ],
   "source": [
    "# Modules \n",
    "c4=a%b             # returns Remainder\n",
    "print(c4)"
   ]
  },
  {
   "cell_type": "code",
   "execution_count": 19,
   "id": "a05fc209-f2fe-41d8-90c2-94d70e273a6e",
   "metadata": {},
   "outputs": [
    {
     "name": "stdout",
     "output_type": "stream",
     "text": [
      "1024\n"
     ]
    }
   ],
   "source": [
    "#exponential\n",
    "c5=print(a**b)"
   ]
  },
  {
   "cell_type": "code",
   "execution_count": 21,
   "id": "9a773209-5dab-4435-95fe-229216725581",
   "metadata": {},
   "outputs": [
    {
     "name": "stdout",
     "output_type": "stream",
     "text": [
      "0\n"
     ]
    }
   ],
   "source": [
    "#floor division\n",
    "c6=a//b\n",
    "print(c6)"
   ]
  },
  {
   "cell_type": "markdown",
   "id": "292e82b2-b403-4dd4-ba0d-fb78ef2bbe3f",
   "metadata": {},
   "source": [
    "# Assignment Operators\n",
    "* =  assignment operator\n",
    "* += addition assignment\n",
    "* -= subtraction assignment\n",
    "* *= multiplication assignment\n",
    "* /= division assignment\n",
    "* %= Modules assignment\n",
    "* **= exponent assignment"
   ]
  },
  {
   "cell_type": "code",
   "execution_count": 25,
   "id": "00298260-01f0-4c1f-82a1-ed9e7ff13bbe",
   "metadata": {},
   "outputs": [
    {
     "name": "stdout",
     "output_type": "stream",
     "text": [
      "15\n"
     ]
    }
   ],
   "source": [
    "#= assignment operator\n",
    "x=5\n",
    "y=10\n",
    "\n",
    "#+= addition assignment\n",
    "x+=y\n",
    "print(x)"
   ]
  },
  {
   "cell_type": "code",
   "execution_count": 29,
   "id": "dc82c86e-c2fa-42f1-9c36-b22fa5643580",
   "metadata": {},
   "outputs": [
    {
     "name": "stdout",
     "output_type": "stream",
     "text": [
      "-5\n"
     ]
    }
   ],
   "source": [
    "#-= subtraction assignment\n",
    "x=5\n",
    "y=10\n",
    "\n",
    "x-=y\n",
    "print(x)"
   ]
  },
  {
   "cell_type": "code",
   "execution_count": 31,
   "id": "0beda58c-146d-4e20-8113-949d07db9c31",
   "metadata": {},
   "outputs": [
    {
     "name": "stdout",
     "output_type": "stream",
     "text": [
      "50\n"
     ]
    }
   ],
   "source": [
    "#*= multiplication assignment\n",
    "x=5\n",
    "y=10\n",
    "\n",
    "x*=y\n",
    "print(x)"
   ]
  },
  {
   "cell_type": "code",
   "execution_count": 33,
   "id": "d2ba1002-2a87-4c6f-86f7-49c1d737ab56",
   "metadata": {},
   "outputs": [
    {
     "name": "stdout",
     "output_type": "stream",
     "text": [
      "0.5\n"
     ]
    }
   ],
   "source": [
    "#/= division assignment\n",
    "x=5\n",
    "y=10\n",
    "\n",
    "x/=y\n",
    "print(x)"
   ]
  },
  {
   "cell_type": "code",
   "execution_count": 35,
   "id": "0eb1da7b-9b29-456f-a05b-70b4828cfa9b",
   "metadata": {},
   "outputs": [
    {
     "name": "stdout",
     "output_type": "stream",
     "text": [
      "5\n"
     ]
    }
   ],
   "source": [
    "#%= Modules assignment\n",
    "x=5\n",
    "y=10\n",
    "\n",
    "x%=y\n",
    "print(x)"
   ]
  },
  {
   "cell_type": "code",
   "execution_count": 39,
   "id": "eacb37b1-3955-49cc-b6b7-ac0da2d06e57",
   "metadata": {},
   "outputs": [
    {
     "name": "stdout",
     "output_type": "stream",
     "text": [
      "100000\n"
     ]
    }
   ],
   "source": [
    "#**= exponent assignment\n",
    "x=5\n",
    "y=10\n",
    "\n",
    "y**=x\n",
    "print(y)"
   ]
  },
  {
   "cell_type": "markdown",
   "id": "ffddfee9-2e91-4f07-87ab-0e58c7a69adb",
   "metadata": {},
   "source": [
    "# Comparision Operators\n",
    "* == is equal to\n",
    "* != not equal to\n",
    "* > Greater than\n",
    "* < Less than\n",
    "* >= Greater than  or equal to\n",
    "* <= Less than or equal to"
   ]
  },
  {
   "cell_type": "code",
   "execution_count": 43,
   "id": "f7f00570-60c0-46ba-846a-0a4760327c43",
   "metadata": {},
   "outputs": [
    {
     "name": "stdout",
     "output_type": "stream",
     "text": [
      "False\n",
      "p!=q True\n",
      "p>q True\n",
      "p<q False\n",
      "p>=q True\n",
      "p<=q False\n"
     ]
    }
   ],
   "source": [
    "p=3\n",
    "q=2\n",
    "\n",
    "# equal to operator\n",
    "print(p==q)\n",
    "\n",
    "#not equal to\n",
    "print('p!=q',p!=q)\n",
    "\n",
    "#greater than operator\n",
    "print('p>q',p>q)\n",
    "\n",
    "#less than operator\n",
    "print('p<q',p<q)\n",
    "\n",
    "#greater than or equal to\n",
    "print('p>=q',p>=q)\n",
    "\n",
    "#less than or equal to\n",
    "print('p<=q',p<=q)"
   ]
  },
  {
   "cell_type": "code",
   "execution_count": null,
   "id": "399c6839-84cb-45b0-ab63-a93fed97936e",
   "metadata": {},
   "outputs": [],
   "source": []
  }
 ],
 "metadata": {
  "kernelspec": {
   "display_name": "Python 3 (ipykernel)",
   "language": "python",
   "name": "python3"
  },
  "language_info": {
   "codemirror_mode": {
    "name": "ipython",
    "version": 3
   },
   "file_extension": ".py",
   "mimetype": "text/x-python",
   "name": "python",
   "nbconvert_exporter": "python",
   "pygments_lexer": "ipython3",
   "version": "3.11.7"
  }
 },
 "nbformat": 4,
 "nbformat_minor": 5
}
