{
 "cells": [
  {
   "cell_type": "markdown",
   "id": "8f762b8f-8fbd-4028-8bd9-a12e5c85175a",
   "metadata": {},
   "source": [
    "1. Write a python program to determine if a year is leap year or not."
   ]
  },
  {
   "cell_type": "code",
   "execution_count": 2,
   "id": "ceaba34d-4af2-42a3-8190-d1ded6a1de1d",
   "metadata": {},
   "outputs": [
    {
     "name": "stdin",
     "output_type": "stream",
     "text": [
      " 2012\n"
     ]
    },
    {
     "name": "stdout",
     "output_type": "stream",
     "text": [
      "2012 is Leap year\n"
     ]
    }
   ],
   "source": [
    "n=int(input())\n",
    "if  n%400==0  :\n",
    "    print(f\"{n} is Leap year\")\n",
    "elif n%4==0 and n%100!=0:\n",
    "    print(f\"{n} is Leap year\")\n",
    "else:\n",
    "    print(f\"{n} is not a leap year\")"
   ]
  }
 ],
 "metadata": {
  "kernelspec": {
   "display_name": "Python 3 (ipykernel)",
   "language": "python",
   "name": "python3"
  },
  "language_info": {
   "codemirror_mode": {
    "name": "ipython",
    "version": 3
   },
   "file_extension": ".py",
   "mimetype": "text/x-python",
   "name": "python",
   "nbconvert_exporter": "python",
   "pygments_lexer": "ipython3",
   "version": "3.11.7"
  }
 },
 "nbformat": 4,
 "nbformat_minor": 5
}
