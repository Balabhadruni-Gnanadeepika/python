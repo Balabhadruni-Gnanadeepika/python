{
 "cells": [
  {
   "cell_type": "markdown",
   "id": "e3ab57b1-e038-4a8f-b9d0-31a5e7f80c54",
   "metadata": {},
   "source": [
    "# Tuple"
   ]
  },
  {
   "cell_type": "markdown",
   "id": "7b994f33-a056-493e-830b-d1dc6fd82c23",
   "metadata": {},
   "source": [
    "Tuples in Python are immutable sequences, similar to lists, but with the key difference that tuples cannot be changed once created"
   ]
  },
  {
   "cell_type": "markdown",
   "id": "1dba937c-dd74-4b13-bfcb-ee387319be82",
   "metadata": {},
   "source": [
    "* Creation: Tuples are created using parentheses () and can contain any number of elements separated by commas"
   ]
  },
  {
   "cell_type": "code",
   "execution_count": 25,
   "id": "c1be761c-e5ba-4d32-8c68-d5ad63186763",
   "metadata": {},
   "outputs": [
    {
     "data": {
      "text/plain": [
       "(1, 2, 3, 4)"
      ]
     },
     "execution_count": 25,
     "metadata": {},
     "output_type": "execute_result"
    }
   ],
   "source": [
    "my_tuple = (1, 2, 3, 4)\n",
    "empty_tuple = ()\n",
    "single_element_tuple = (5,) \n",
    "single_element_tuple"
   ]
  },
  {
   "cell_type": "markdown",
   "id": "b28c96c5-8265-45d1-8a0c-3646eb87d79b",
   "metadata": {},
   "source": [
    "* Immutability: Once a tuple is created, you cannot modify its contents. This means you cannot add, remove, or change elements after the tuple is created."
   ]
  },
  {
   "cell_type": "markdown",
   "id": "358e37fe-7899-45a6-92bc-4b61c817a378",
   "metadata": {},
   "source": [
    "* Accessing Elements: Elements in a tuple are accessed using indexing,"
   ]
  },
  {
   "cell_type": "code",
   "execution_count": 12,
   "id": "22941545-d565-4022-9c41-30a635c18472",
   "metadata": {},
   "outputs": [
    {
     "name": "stdout",
     "output_type": "stream",
     "text": [
      "1\n"
     ]
    }
   ],
   "source": [
    "my_tuple = (1, 2, 3, 4)\n",
    "print(my_tuple[0])  # Output: 1"
   ]
  },
  {
   "cell_type": "markdown",
   "id": "94d1e164-b448-4439-a23d-f7c4bd9391d7",
   "metadata": {},
   "source": [
    "# Tuple Methods\n",
    "* Tuples have very few methods due to their immutability.\n",
    "* They mainly support operations like indexing, slicing, and some basic operations such as count() and index()."
   ]
  },
  {
   "cell_type": "markdown",
   "id": "c9e434fb-9bbf-4f64-9312-8af874f63164",
   "metadata": {},
   "source": [
    "* Use Cases: Tuples are often used when you want to store a fixed collection of items that should not be changed, such as coordinates, database records, or any collection where immutability is desired."
   ]
  },
  {
   "cell_type": "markdown",
   "id": "0cddcbd5-d355-4e81-bf23-3b1f6ed95a5b",
   "metadata": {},
   "source": [
    "* count(value):\n",
    "\n",
    "Returns the number of times a specified value appears in the tuple."
   ]
  },
  {
   "cell_type": "code",
   "execution_count": 17,
   "id": "05fe83c7-61e9-4252-9716-61ce16e2a714",
   "metadata": {},
   "outputs": [
    {
     "name": "stdout",
     "output_type": "stream",
     "text": [
      "3\n"
     ]
    }
   ],
   "source": [
    "my_tuple = (1, 2, 2, 3, 4, 2)\n",
    "print(my_tuple.count(2))  # Output: 3\n"
   ]
  },
  {
   "cell_type": "markdown",
   "id": "cc3757c9-91e3-4ba0-a9d9-94c2813f915a",
   "metadata": {},
   "source": [
    "* index(value, start=0, end=len(tuple)):\n",
    "\n",
    "Returns the index of the first occurrence of a specified value within a specified range.\n",
    "start and end are optional parameters that specify the range within which to search."
   ]
  },
  {
   "cell_type": "code",
   "execution_count": 21,
   "id": "9afbe4fa-428f-4c74-ba02-c5ccc94ba5b0",
   "metadata": {},
   "outputs": [
    {
     "name": "stdout",
     "output_type": "stream",
     "text": [
      "2\n",
      "4\n"
     ]
    }
   ],
   "source": [
    "my_tuple = (1, 2, 3, 4, 3, 5)\n",
    "print(my_tuple.index(3))\n",
    "print(my_tuple.index(3, 3, 6)) "
   ]
  },
  {
   "cell_type": "markdown",
   "id": "d0e7e854-ef81-4b5e-ade1-e7a1675e526f",
   "metadata": {},
   "source": [
    "Tuples support indexing and slicing,just like lists."
   ]
  },
  {
   "cell_type": "code",
   "execution_count": 30,
   "id": "cbb42c48-f162-45ef-913b-7783fe50696a",
   "metadata": {},
   "outputs": [
    {
     "name": "stdout",
     "output_type": "stream",
     "text": [
      "audi\n",
      "('ferrari', 'audi', 'Hyundai')\n"
     ]
    }
   ],
   "source": [
    "cars = (\"ferrari\",\"audi\",\"Hyundai\")\n",
    "print(cars[1])\n",
    "print(cars[0:4])"
   ]
  },
  {
   "cell_type": "markdown",
   "id": "0d4e44a7-8e58-4d76-8a08-7ed58bbae67f",
   "metadata": {},
   "source": [
    "* Concatenation:\n",
    "   Combining two tuples"
   ]
  },
  {
   "cell_type": "code",
   "execution_count": 36,
   "id": "1704e972-ae23-4b3e-9ea5-4d69cea60cbc",
   "metadata": {},
   "outputs": [
    {
     "name": "stdout",
     "output_type": "stream",
     "text": [
      "(1, 2, 3, 4, 5, 6)\n"
     ]
    }
   ],
   "source": [
    "tuple1 = (1, 2, 3)\n",
    "tuple2 = (4, 5, 6)\n",
    "concatenated_tuple = tuple1 + tuple2\n",
    "print(concatenated_tuple)  # Output: (1, 2, 3, 4, 5, 6)\n"
   ]
  },
  {
   "cell_type": "markdown",
   "id": "67a647ad-efc1-48df-a258-18e4dc5a7ca4",
   "metadata": {},
   "source": [
    "* Repetition:\n",
    "Tuple repetition allows you to create a new tuple by repeating an existing tuple a specified number of times. This is achieved using the * operator\n",
    "\n"
   ]
  },
  {
   "cell_type": "code",
   "execution_count": 39,
   "id": "9b9b353f-cabc-402b-95e1-8f82dc58825e",
   "metadata": {},
   "outputs": [
    {
     "name": "stdout",
     "output_type": "stream",
     "text": [
      "(1, 2, 1, 2, 1, 2)\n"
     ]
    }
   ],
   "source": [
    "tuple1 = (1, 2)\n",
    "repeated_tuple = tuple1 * 3\n",
    "print(repeated_tuple)  # Output: (1, 2, 1, 2, 1, 2)\n"
   ]
  }
 ],
 "metadata": {
  "kernelspec": {
   "display_name": "Python 3 (ipykernel)",
   "language": "python",
   "name": "python3"
  },
  "language_info": {
   "codemirror_mode": {
    "name": "ipython",
    "version": 3
   },
   "file_extension": ".py",
   "mimetype": "text/x-python",
   "name": "python",
   "nbconvert_exporter": "python",
   "pygments_lexer": "ipython3",
   "version": "3.11.7"
  }
 },
 "nbformat": 4,
 "nbformat_minor": 5
}
