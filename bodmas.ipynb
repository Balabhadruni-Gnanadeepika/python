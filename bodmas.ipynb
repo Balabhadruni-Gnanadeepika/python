{
 "cells": [
  {
   "cell_type": "code",
   "execution_count": 1,
   "id": "3e169926-c58c-48e8-b040-37183fe44336",
   "metadata": {},
   "outputs": [
    {
     "ename": "SyntaxError",
     "evalue": "invalid syntax (1289971366.py, line 1)",
     "output_type": "error",
     "traceback": [
      "\u001b[1;36m  Cell \u001b[1;32mIn[1], line 1\u001b[1;36m\u001b[0m\n\u001b[1;33m    7(2-32)23*23(32-232)/23\u001b[0m\n\u001b[1;37m           ^\u001b[0m\n\u001b[1;31mSyntaxError\u001b[0m\u001b[1;31m:\u001b[0m invalid syntax\n"
     ]
    }
   ],
   "source": [
    "7(2-32)23*23(32-232)/23"
   ]
  },
  {
   "cell_type": "code",
   "execution_count": 3,
   "id": "aac36f33-c53b-4daa-8e17-6b52b61da01e",
   "metadata": {},
   "outputs": [
    {
     "ename": "SyntaxError",
     "evalue": "invalid syntax (1088217748.py, line 1)",
     "output_type": "error",
     "traceback": [
      "\u001b[1;36m  Cell \u001b[1;32mIn[3], line 1\u001b[1;36m\u001b[0m\n\u001b[1;33m    78-23+23+23+12+123-232(34/54*34+4)34\u001b[0m\n\u001b[1;37m                                      ^\u001b[0m\n\u001b[1;31mSyntaxError\u001b[0m\u001b[1;31m:\u001b[0m invalid syntax\n"
     ]
    }
   ],
   "source": [
    "78-23+23+23+12+123-232(34/54*34+4)34"
   ]
  },
  {
   "cell_type": "code",
   "execution_count": 5,
   "id": "c1085d39-09f1-4a53-b2d2-527749e47a59",
   "metadata": {},
   "outputs": [
    {
     "data": {
      "text/plain": [
       "-4029.6666666666665"
      ]
     },
     "execution_count": 5,
     "metadata": {},
     "output_type": "execute_result"
    }
   ],
   "source": [
    "67-6*3*(9-2)*32-32-23-(23/3)-2"
   ]
  },
  {
   "cell_type": "code",
   "execution_count": 7,
   "id": "841fcf2b-8288-4536-b79a-94a9d1d53d2b",
   "metadata": {},
   "outputs": [
    {
     "data": {
      "text/plain": [
       "-80"
      ]
     },
     "execution_count": 7,
     "metadata": {},
     "output_type": "execute_result"
    }
   ],
   "source": [
    "7+(78-(6*24))-21"
   ]
  },
  {
   "cell_type": "code",
   "execution_count": 9,
   "id": "6fb2b097-73ec-4f75-a9c5-901611f82d27",
   "metadata": {},
   "outputs": [
    {
     "data": {
      "text/plain": [
       "-41"
      ]
     },
     "execution_count": 9,
     "metadata": {},
     "output_type": "execute_result"
    }
   ],
   "source": [
    "7+(4*4)-8**2"
   ]
  },
  {
   "cell_type": "code",
   "execution_count": 11,
   "id": "f736336a-077b-43bf-b081-575fda5a1697",
   "metadata": {},
   "outputs": [
    {
     "data": {
      "text/plain": [
       "25.4"
      ]
     },
     "execution_count": 11,
     "metadata": {},
     "output_type": "execute_result"
    }
   ],
   "source": [
    "90-67+4*3/5"
   ]
  },
  {
   "cell_type": "code",
   "execution_count": null,
   "id": "7f619190-3486-411f-9c1f-5119b870b3c9",
   "metadata": {},
   "outputs": [],
   "source": []
  }
 ],
 "metadata": {
  "kernelspec": {
   "display_name": "Python 3 (ipykernel)",
   "language": "python",
   "name": "python3"
  },
  "language_info": {
   "codemirror_mode": {
    "name": "ipython",
    "version": 3
   },
   "file_extension": ".py",
   "mimetype": "text/x-python",
   "name": "python",
   "nbconvert_exporter": "python",
   "pygments_lexer": "ipython3",
   "version": "3.11.7"
  }
 },
 "nbformat": 4,
 "nbformat_minor": 5
}
