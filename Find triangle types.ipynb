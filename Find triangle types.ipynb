{
 "cells": [
  {
   "cell_type": "markdown",
   "id": "8f762b8f-8fbd-4028-8bd9-a12e5c85175a",
   "metadata": {},
   "source": [
    "4. Write a python program to find triangle types."
   ]
  },
  {
   "cell_type": "code",
   "execution_count": 11,
   "id": "ceaba34d-4af2-42a3-8190-d1ded6a1de1d",
   "metadata": {},
   "outputs": [
    {
     "name": "stdin",
     "output_type": "stream",
     "text": [
      " 2\n",
      " 4\n",
      " 3\n"
     ]
    },
    {
     "name": "stdout",
     "output_type": "stream",
     "text": [
      "given sides form a Scalene triangle\n"
     ]
    }
   ],
   "source": [
    "a=int(input())\n",
    "b=int(input())\n",
    "c=int(input())\n",
    "if a==b==c:\n",
    "    print(\"given sides form a equilateral triangle\")\n",
    "elif a+b==c:\n",
    "    print(\"given sides form a right angle triangle\")\n",
    "else:\n",
    "    print(\"given sides form a Scalene triangle\")"
   ]
  }
 ],
 "metadata": {
  "kernelspec": {
   "display_name": "Python 3 (ipykernel)",
   "language": "python",
   "name": "python3"
  },
  "language_info": {
   "codemirror_mode": {
    "name": "ipython",
    "version": 3
   },
   "file_extension": ".py",
   "mimetype": "text/x-python",
   "name": "python",
   "nbconvert_exporter": "python",
   "pygments_lexer": "ipython3",
   "version": "3.11.7"
  }
 },
 "nbformat": 4,
 "nbformat_minor": 5
}
