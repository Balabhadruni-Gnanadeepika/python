{
 "cells": [
  {
   "cell_type": "markdown",
   "id": "8f762b8f-8fbd-4028-8bd9-a12e5c85175a",
   "metadata": {},
   "source": [
    "3. Write a python program to find larger number among the three numbers."
   ]
  },
  {
   "cell_type": "code",
   "execution_count": 8,
   "id": "ceaba34d-4af2-42a3-8190-d1ded6a1de1d",
   "metadata": {},
   "outputs": [
    {
     "name": "stdin",
     "output_type": "stream",
     "text": [
      " 3\n",
      " 5\n",
      " 4\n"
     ]
    },
    {
     "name": "stdout",
     "output_type": "stream",
     "text": [
      "5 is larger number\n"
     ]
    }
   ],
   "source": [
    "n=int(input())\n",
    "n1=int(input())\n",
    "n2=int(input())\n",
    "if n>n1 and n>n2:\n",
    "    print(f\"{n} is larger number\")\n",
    "elif n1>n and n1>n2:\n",
    "    print(f\"{n1} is larger number\")\n",
    "else:\n",
    "    print(f\"{n2} is larger number\")"
   ]
  }
 ],
 "metadata": {
  "kernelspec": {
   "display_name": "Python 3 (ipykernel)",
   "language": "python",
   "name": "python3"
  },
  "language_info": {
   "codemirror_mode": {
    "name": "ipython",
    "version": 3
   },
   "file_extension": ".py",
   "mimetype": "text/x-python",
   "name": "python",
   "nbconvert_exporter": "python",
   "pygments_lexer": "ipython3",
   "version": "3.11.7"
  }
 },
 "nbformat": 4,
 "nbformat_minor": 5
}
