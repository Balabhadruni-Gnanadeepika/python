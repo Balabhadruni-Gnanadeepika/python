{
 "cells": [
  {
   "cell_type": "markdown",
   "id": "d4d95327-848f-4802-b50d-4b63c4b9577e",
   "metadata": {},
   "source": [
    "# Data Type\n",
    "* Numeric--> int, flaot, complex"
   ]
  },
  {
   "cell_type": "code",
   "execution_count": 8,
   "id": "df4cf0cb-81a6-4962-9aef-d5298aaf577e",
   "metadata": {},
   "outputs": [],
   "source": [
    "x = 4  # int\n",
    "y = 6.8 # float\n",
    "z = 1+5j # complex"
   ]
  },
  {
   "cell_type": "code",
   "execution_count": 10,
   "id": "605439ad-b7a7-4504-b4d2-3b0fe8eda118",
   "metadata": {},
   "outputs": [
    {
     "name": "stdout",
     "output_type": "stream",
     "text": [
      "<class 'int'>\n",
      "<class 'float'>\n",
      "<class 'complex'>\n"
     ]
    }
   ],
   "source": [
    "print(type(x))\n",
    "print(type(y))\n",
    "print(type(z))"
   ]
  },
  {
   "cell_type": "code",
   "execution_count": 14,
   "id": "12aae049-6f3d-4c4e-ab2c-7f3dc87ce7de",
   "metadata": {},
   "outputs": [
    {
     "name": "stdout",
     "output_type": "stream",
     "text": [
      "4\n",
      "6.8\n",
      "(1+5j)\n"
     ]
    }
   ],
   "source": [
    "print(x)\n",
    "print(y)\n",
    "print(z)"
   ]
  },
  {
   "cell_type": "markdown",
   "id": "4c172c26-9507-4a1c-8742-638f77097c37",
   "metadata": {},
   "source": [
    "# Type  Conversion\n"
   ]
  },
  {
   "cell_type": "code",
   "execution_count": 19,
   "id": "9a096407-24d1-4ca7-914a-0be7cfc285c2",
   "metadata": {},
   "outputs": [
    {
     "name": "stdout",
     "output_type": "stream",
     "text": [
      "<class 'float'>\n",
      "<class 'int'>\n",
      "<class 'complex'>\n"
     ]
    }
   ],
   "source": [
    "a1=3\n",
    "b1=4.4\n",
    "c1=3+4j\n",
    "a2= float(a1)\n",
    "b2=int(b1)\n",
    "c2= complex(b1)\n",
    "print(type(a2))\n",
    "print(type(b2))\n",
    "print(type(c2))"
   ]
  },
  {
   "cell_type": "markdown",
   "id": "9e489eff-ad96-42f6-8aed-ef81a3fdc1ed",
   "metadata": {},
   "source": [
    "# Python Booleans\n",
    "* Represents True or False"
   ]
  },
  {
   "cell_type": "code",
   "execution_count": 22,
   "id": "1f9de530-a25f-4687-9a99-f384898aa7bb",
   "metadata": {},
   "outputs": [
    {
     "name": "stdout",
     "output_type": "stream",
     "text": [
      "True\n",
      "False\n",
      "True\n"
     ]
    }
   ],
   "source": [
    "print(40>35)\n",
    "print(32==76)\n",
    "print(32<87)"
   ]
  },
  {
   "cell_type": "markdown",
   "id": "876c4a2e-5efc-4560-aa63-29e950db2c4b",
   "metadata": {},
   "source": [
    "# Evaluate Values and Variables\n",
    "* bool()"
   ]
  },
  {
   "cell_type": "code",
   "execution_count": 25,
   "id": "a6fc2484-c63e-4cac-8db5-1b4c2dc409f7",
   "metadata": {},
   "outputs": [
    {
     "name": "stdout",
     "output_type": "stream",
     "text": [
      "True\n",
      "False\n"
     ]
    }
   ],
   "source": [
    "print(bool(3))\n",
    "print(bool())"
   ]
  },
  {
   "cell_type": "code",
   "execution_count": null,
   "id": "2c179db0-0a44-444d-8cfe-36d8bbd42d50",
   "metadata": {},
   "outputs": [],
   "source": []
  }
 ],
 "metadata": {
  "kernelspec": {
   "display_name": "Python 3 (ipykernel)",
   "language": "python",
   "name": "python3"
  },
  "language_info": {
   "codemirror_mode": {
    "name": "ipython",
    "version": 3
   },
   "file_extension": ".py",
   "mimetype": "text/x-python",
   "name": "python",
   "nbconvert_exporter": "python",
   "pygments_lexer": "ipython3",
   "version": "3.11.7"
  }
 },
 "nbformat": 4,
 "nbformat_minor": 5
}
