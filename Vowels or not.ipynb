{
 "cells": [
  {
   "cell_type": "markdown",
   "id": "8f762b8f-8fbd-4028-8bd9-a12e5c85175a",
   "metadata": {},
   "source": [
    "2. Write a python program to check if a character is a vowel or not."
   ]
  },
  {
   "cell_type": "code",
   "execution_count": 5,
   "id": "ceaba34d-4af2-42a3-8190-d1ded6a1de1d",
   "metadata": {},
   "outputs": [
    {
     "name": "stdin",
     "output_type": "stream",
     "text": [
      " d\n"
     ]
    },
    {
     "name": "stdout",
     "output_type": "stream",
     "text": [
      "d is constant\n"
     ]
    }
   ],
   "source": [
    "n=input()\n",
    "vowels = ['a','e','i','o','u']\n",
    "if n in vowels:\n",
    "    print(f\"{n} is vowel\")\n",
    "else: \n",
    "    print(f\"{n} is constant\")"
   ]
  },
  {
   "cell_type": "code",
   "execution_count": null,
   "id": "13b6cb5b-68c2-4f2b-b270-1b6d77c3736a",
   "metadata": {},
   "outputs": [],
   "source": []
  }
 ],
 "metadata": {
  "kernelspec": {
   "display_name": "Python 3 (ipykernel)",
   "language": "python",
   "name": "python3"
  },
  "language_info": {
   "codemirror_mode": {
    "name": "ipython",
    "version": 3
   },
   "file_extension": ".py",
   "mimetype": "text/x-python",
   "name": "python",
   "nbconvert_exporter": "python",
   "pygments_lexer": "ipython3",
   "version": "3.11.7"
  }
 },
 "nbformat": 4,
 "nbformat_minor": 5
}
