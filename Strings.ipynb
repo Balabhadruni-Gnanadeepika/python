{
 "cells": [
  {
   "cell_type": "markdown",
   "id": "75a9e107-247c-4b52-b9f5-8821798e43be",
   "metadata": {},
   "source": [
    "# Strings"
   ]
  },
  {
   "cell_type": "markdown",
   "id": "779410ac-f4c2-4017-b4eb-cda0ac7bb39a",
   "metadata": {},
   "source": [
    "String is a sequence of characters or a collection of characters.\n",
    "* We use quotes or double quotes to represent a string"
   ]
  },
  {
   "cell_type": "code",
   "execution_count": 14,
   "id": "dfc3358e-4d17-4a8f-a1f3-ec7b6ffc02be",
   "metadata": {},
   "outputs": [
    {
     "name": "stdout",
     "output_type": "stream",
     "text": [
      "Deepu\n",
      "Suppu\n",
      "This is the \n",
      "String method\n"
     ]
    }
   ],
   "source": [
    "str1 = \"Deepu\"\n",
    "str = 'Suppu'\n",
    "str2 = \"\"\"This is the \n",
    "String method\"\"\"\n",
    "print(str1)\n",
    "print(str)\n",
    "print(str2)"
   ]
  },
  {
   "cell_type": "markdown",
   "id": "244b3b81-bf9c-41c2-afba-c128117c6ba6",
   "metadata": {},
   "source": [
    "## String Operations\n",
    "* Concatenation: Used to combine two or more strings.\n",
    "* Repetition: Used to repeat the string multiple times.\n",
    "* Indexing: Used to access individual characters in string.\n",
    "* Sclicing: Used to Extract the substring from a string.\n",
    "* Membership (in): Checks if a substring exists in a string.\n",
    "* Comparison Operators (==, !=, >, <, >=, <=): Compare strings ,one string with another string."
   ]
  },
  {
   "cell_type": "markdown",
   "id": "49c5ccb8-6454-4b61-bdde-29215880e575",
   "metadata": {},
   "source": [
    "### Concatenation:"
   ]
  },
  {
   "cell_type": "code",
   "execution_count": 21,
   "id": "3f8a6c3d-ea6f-426e-99d7-efae0584fc37",
   "metadata": {},
   "outputs": [
    {
     "name": "stdout",
     "output_type": "stream",
     "text": [
      "Siya Ke Ram\n"
     ]
    }
   ],
   "source": [
    "str1 = \"Siya Ke\"\n",
    "str2 = \"Ram\"\n",
    "result = str1 + \" \" + str2\n",
    "print(result)"
   ]
  },
  {
   "cell_type": "markdown",
   "id": "5740c8e2-fe0a-4c30-be85-e94473a0d42f",
   "metadata": {},
   "source": [
    "### Repetition: "
   ]
  },
  {
   "cell_type": "code",
   "execution_count": 27,
   "id": "fe8031de-e1d5-487f-812b-23f9130dc938",
   "metadata": {},
   "outputs": [
    {
     "name": "stdout",
     "output_type": "stream",
     "text": [
      "Hare Rama Hare Rama \n",
      "Hare Krishna Hare Krishna \n"
     ]
    }
   ],
   "source": [
    "str1 = \"Hare Rama \"\n",
    "str2 = \"Hare Krishna \"\n",
    "result1 = str1* 2\n",
    "result2 = str2* 2\n",
    "print(result1)\n",
    "print(result2)"
   ]
  },
  {
   "cell_type": "markdown",
   "id": "5156d070-84f0-4c5b-9c3a-5b07dbfd94d2",
   "metadata": {},
   "source": [
    "### Indexing:"
   ]
  },
  {
   "cell_type": "code",
   "execution_count": 19,
   "id": "94d695ba-966a-4969-87f9-014a57f4f399",
   "metadata": {},
   "outputs": [
    {
     "name": "stdout",
     "output_type": "stream",
     "text": [
      "S\n",
      "m\n"
     ]
    }
   ],
   "source": [
    "str1 = \"Siya ke Ram\"\n",
    "print(str1[0]) \n",
    "print(str1[-1])"
   ]
  },
  {
   "cell_type": "markdown",
   "id": "c234c8f7-baa0-4a96-bf12-beaa15d59e5e",
   "metadata": {},
   "source": [
    "### Sclicing:"
   ]
  },
  {
   "cell_type": "code",
   "execution_count": 37,
   "id": "18217071-1c83-4261-91ba-93c56e5945b8",
   "metadata": {},
   "outputs": [
    {
     "name": "stdout",
     "output_type": "stream",
     "text": [
      "Deepika Balabhadruni\n",
      "Gnana\n",
      "Deepika\n",
      "Gaaepk aahdui\n"
     ]
    }
   ],
   "source": [
    "str1 = \"GnanaDeepika Balabhadruni\"\n",
    "print(str1[5:])   \n",
    "print(str1[:5])    \n",
    "print(str1[5:12])   \n",
    "print(str1[::2]) "
   ]
  },
  {
   "cell_type": "markdown",
   "id": "59617e96-d278-449a-975e-dae6f3c694f0",
   "metadata": {},
   "source": [
    "### Membership (in):"
   ]
  },
  {
   "cell_type": "code",
   "execution_count": 44,
   "id": "370a5317-e110-437f-be80-63510f5cce0a",
   "metadata": {},
   "outputs": [
    {
     "name": "stdout",
     "output_type": "stream",
     "text": [
      "True\n",
      "False\n"
     ]
    }
   ],
   "source": [
    "str1 = \"Deepika is working in python string Operators\"\n",
    "print(\"Operators\" in str1)  # Output: True\n",
    "print(\"Hello\" in str1)"
   ]
  },
  {
   "cell_type": "markdown",
   "id": "736db78f-a291-451f-99c8-05317f3ad80d",
   "metadata": {},
   "source": [
    "### Comparison Operators (==, !=, >, <, >=, <=):"
   ]
  },
  {
   "cell_type": "code",
   "execution_count": 47,
   "id": "c1a514d3-1c18-40e6-a39e-450be327ef79",
   "metadata": {},
   "outputs": [
    {
     "name": "stdout",
     "output_type": "stream",
     "text": [
      "False\n",
      "False\n",
      "True\n",
      "True\n"
     ]
    }
   ],
   "source": [
    "str1 = \"Car\"\n",
    "str2 = \"Bike\"\n",
    "print(str1 == str2)   \n",
    "print(str1 < str2) \n",
    "print(str1 != str2)\n",
    "print(str1 > str2)"
   ]
  },
  {
   "cell_type": "markdown",
   "id": "11e04d6d-4592-4abc-8611-0d60c3b0be2c",
   "metadata": {},
   "source": [
    "# String Methods in Python"
   ]
  },
  {
   "cell_type": "markdown",
   "id": "ffc12713-8ef5-4811-ad87-1965d4b9c543",
   "metadata": {},
   "source": [
    "* upper(): Converts all characters in the string to uppercase.\n",
    "* lower(): Converts all characters in the string to lowercase.\n",
    "* capitalize(): Capitalizes the first character of the string.\n",
    "* title(): Capitalizes the first character of each word in the string.\n",
    "* strip(): Removes leading and trailing whitespace.\n",
    "* lstrip(): Removes leading whitespace.\n",
    "* rstrip(): Removes trailing whitespace.\n",
    "* replace(old, new): Replaces occurrences of a substring with another substring.\n",
    "* split(separator): Splits the string into a list of substrings based on the specified separator.\n",
    "* join(iterable): Joins elements of an iterable with the string as the separator.\n",
    "* find(substring): Returns the lowest index in the string where the substring is found.\n",
    "* index(substring): Similar to find(), but raises a ValueError if the substring is not found.\n",
    "* startswith(prefix): Checks if the string starts with the specified prefix.\n",
    "* endswith(suffix): Checks if the string ends with the specified suffix.\n",
    "* isalpha(): Checks if all characters in the string are alphabetic.\n",
    "* isdigit(): Checks if all characters in the string are digits.\n",
    "* isalnum(): Checks if all characters in the string are alphanumeric (letters and numbers).\n",
    "* islower(): Checks if all characters in the string are lowercase.\n",
    "* isupper(): Checks if all characters in the string are uppercase.\n",
    "* isspace(): Checks if the string consists only of whitespace characters."
   ]
  },
  {
   "cell_type": "markdown",
   "id": "b964c644-a9b7-43fa-a3ab-f803d21f2d7a",
   "metadata": {},
   "source": [
    "### upper()"
   ]
  },
  {
   "cell_type": "code",
   "execution_count": 78,
   "id": "10a80bdc-d3da-4e8b-8a38-32a945dcd830",
   "metadata": {},
   "outputs": [
    {
     "name": "stdout",
     "output_type": "stream",
     "text": [
      "GNANADEEPIKA\n"
     ]
    }
   ],
   "source": [
    "text = \"gnanadeepika\"\n",
    "print(text.upper())  "
   ]
  },
  {
   "cell_type": "markdown",
   "id": "7e9d5c54-5b97-493f-bf99-bd0d1c1d56ac",
   "metadata": {},
   "source": [
    "### lower()"
   ]
  },
  {
   "cell_type": "code",
   "execution_count": 80,
   "id": "c5ca9ef1-d773-4740-a5f0-1bec0dd9de3a",
   "metadata": {},
   "outputs": [
    {
     "name": "stdout",
     "output_type": "stream",
     "text": [
      "balabhadruni\n"
     ]
    }
   ],
   "source": [
    "text = \"BALABHADRUNI\"\n",
    "print(text.lower()) "
   ]
  },
  {
   "cell_type": "markdown",
   "id": "98a1d1f8-aeb3-43bd-a214-605a5bab05b7",
   "metadata": {},
   "source": [
    "### capitalize()"
   ]
  },
  {
   "cell_type": "code",
   "execution_count": 82,
   "id": "0c623fd2-def3-406b-ae6b-263dc70d4f6b",
   "metadata": {},
   "outputs": [
    {
     "name": "stdout",
     "output_type": "stream",
     "text": [
      "Hello world\n"
     ]
    }
   ],
   "source": [
    "text = \"hello world\"\n",
    "print(text.capitalize())  "
   ]
  },
  {
   "cell_type": "markdown",
   "id": "df026186-d051-4ce2-b41d-55e681e94f63",
   "metadata": {},
   "source": [
    "### title()"
   ]
  },
  {
   "cell_type": "code",
   "execution_count": 84,
   "id": "909d33c7-9935-4aaf-a20c-97d0415d0174",
   "metadata": {},
   "outputs": [
    {
     "name": "stdout",
     "output_type": "stream",
     "text": [
      "Hello World\n"
     ]
    }
   ],
   "source": [
    "text = \"hello world\"\n",
    "print(text.title()) "
   ]
  },
  {
   "cell_type": "markdown",
   "id": "a79fcfc3-b020-4629-b901-a8bc73d45fa6",
   "metadata": {},
   "source": [
    "### strip()"
   ]
  },
  {
   "cell_type": "code",
   "execution_count": 86,
   "id": "3ae568df-793c-4050-ad26-1a473ab0e362",
   "metadata": {},
   "outputs": [
    {
     "name": "stdout",
     "output_type": "stream",
     "text": [
      "hello world\n"
     ]
    }
   ],
   "source": [
    "text = \"   hello world   \"\n",
    "print(text.strip())"
   ]
  },
  {
   "cell_type": "markdown",
   "id": "2a6f0dcb-0594-4175-bc92-28d9d91b9139",
   "metadata": {},
   "source": [
    "### lstrip()"
   ]
  },
  {
   "cell_type": "code",
   "execution_count": 88,
   "id": "9c7e356a-dcd6-4b19-a487-a67f31a2fa7d",
   "metadata": {},
   "outputs": [
    {
     "name": "stdout",
     "output_type": "stream",
     "text": [
      "hello world\n"
     ]
    }
   ],
   "source": [
    "text = \"   hello world\"\n",
    "print(text.lstrip()) "
   ]
  },
  {
   "cell_type": "markdown",
   "id": "153ef1ca-ce8a-4796-b04b-b98b0403330a",
   "metadata": {},
   "source": [
    "### rstrip()"
   ]
  },
  {
   "cell_type": "code",
   "execution_count": 90,
   "id": "85b28c1b-7ee8-4a11-9002-17156f26318b",
   "metadata": {},
   "outputs": [
    {
     "name": "stdout",
     "output_type": "stream",
     "text": [
      "hello world\n"
     ]
    }
   ],
   "source": [
    "text = \"hello world   \"\n",
    "print(text.rstrip()) "
   ]
  },
  {
   "cell_type": "markdown",
   "id": "1e136514-a52a-4a50-b804-2f2078e15d85",
   "metadata": {},
   "source": [
    "### replace()"
   ]
  },
  {
   "cell_type": "code",
   "execution_count": 92,
   "id": "c6900921-b9cc-4665-a7cc-a8df31f9dafb",
   "metadata": {},
   "outputs": [
    {
     "name": "stdout",
     "output_type": "stream",
     "text": [
      "hello Deepu\n"
     ]
    }
   ],
   "source": [
    "text = \"hello world\"\n",
    "print(text.replace(\"world\", \"Deepu\"))"
   ]
  },
  {
   "cell_type": "markdown",
   "id": "2986ec28-7a17-4297-bafb-e1d068d2b6c9",
   "metadata": {},
   "source": [
    "### split()"
   ]
  },
  {
   "cell_type": "code",
   "execution_count": 94,
   "id": "41a2412b-e7df-45f8-8a7f-38f48b4fbe35",
   "metadata": {},
   "outputs": [
    {
     "name": "stdout",
     "output_type": "stream",
     "text": [
      "['Jai', 'Shree', 'Ram']\n"
     ]
    }
   ],
   "source": [
    "text = \"Jai Shree Ram\"\n",
    "print(text.split(\" \"))"
   ]
  },
  {
   "cell_type": "markdown",
   "id": "f7dec373-af4d-4f97-9145-267fe0c73a5f",
   "metadata": {},
   "source": [
    "### join()"
   ]
  },
  {
   "cell_type": "code",
   "execution_count": 96,
   "id": "060a4f62-3572-4b51-a9dd-c4c35d2f9df7",
   "metadata": {},
   "outputs": [
    {
     "name": "stdout",
     "output_type": "stream",
     "text": [
      "hello world\n"
     ]
    }
   ],
   "source": [
    "words = [\"hello\", \"world\"]\n",
    "print(\" \".join(words)) "
   ]
  },
  {
   "cell_type": "markdown",
   "id": "05b2274a-cec2-437a-834d-a7fb006911d6",
   "metadata": {},
   "source": [
    "### find()"
   ]
  },
  {
   "cell_type": "code",
   "execution_count": 98,
   "id": "9157d4bb-22de-491c-bc10-d12c269e0f90",
   "metadata": {},
   "outputs": [
    {
     "name": "stdout",
     "output_type": "stream",
     "text": [
      "8\n"
     ]
    }
   ],
   "source": [
    "text = \"Siya ke Ram\"\n",
    "print(text.find(\"Ram\"))"
   ]
  },
  {
   "cell_type": "markdown",
   "id": "a4ba4f41-a9ee-40ef-ac92-26abfee05eb5",
   "metadata": {},
   "source": [
    "### index()"
   ]
  },
  {
   "cell_type": "code",
   "execution_count": 100,
   "id": "8d6af103-da86-40fe-b5fb-e05bc464741c",
   "metadata": {},
   "outputs": [
    {
     "name": "stdout",
     "output_type": "stream",
     "text": [
      "6\n"
     ]
    }
   ],
   "source": [
    "text = \"Gnana deepika\"\n",
    "print(text.index(\"deepika\"))"
   ]
  },
  {
   "cell_type": "markdown",
   "id": "122b86da-6ae7-46c6-be03-45e18e5605db",
   "metadata": {},
   "source": [
    "### startswith()"
   ]
  },
  {
   "cell_type": "code",
   "execution_count": 102,
   "id": "6471de0b-4942-4c8b-b6f1-4d1edc4386a4",
   "metadata": {},
   "outputs": [
    {
     "name": "stdout",
     "output_type": "stream",
     "text": [
      "True\n"
     ]
    }
   ],
   "source": [
    "text = \"Gnana Deepika\"\n",
    "print(text.startswith(\"Gnana\")) "
   ]
  },
  {
   "cell_type": "markdown",
   "id": "f2098c8e-c382-4b84-b940-fdf343980219",
   "metadata": {},
   "source": [
    "### endswith()"
   ]
  },
  {
   "cell_type": "code",
   "execution_count": 104,
   "id": "0d1e25ac-9c52-4e48-ba68-d7891f3b2569",
   "metadata": {},
   "outputs": [
    {
     "name": "stdout",
     "output_type": "stream",
     "text": [
      "True\n"
     ]
    }
   ],
   "source": [
    "text = \"Deepika Balabhadruni\"\n",
    "print(text.endswith(\"Balabhadruni\"))"
   ]
  },
  {
   "cell_type": "markdown",
   "id": "598e4f56-5a53-4df3-8942-fec21aa4855e",
   "metadata": {},
   "source": [
    "### isalpha()"
   ]
  },
  {
   "cell_type": "code",
   "execution_count": 106,
   "id": "3b7c9449-7359-41e0-bfa2-1122f651eb61",
   "metadata": {},
   "outputs": [
    {
     "name": "stdout",
     "output_type": "stream",
     "text": [
      "True\n"
     ]
    }
   ],
   "source": [
    "text = \"deepu\"\n",
    "print(text.isalpha())"
   ]
  },
  {
   "cell_type": "markdown",
   "id": "ff1c46f2-5239-4bac-8032-1f1268b8d11f",
   "metadata": {},
   "source": [
    "### isdigit()"
   ]
  },
  {
   "cell_type": "code",
   "execution_count": 108,
   "id": "b11be5a5-7d65-46e9-a996-b1b6c572315e",
   "metadata": {},
   "outputs": [
    {
     "name": "stdout",
     "output_type": "stream",
     "text": [
      "True\n"
     ]
    }
   ],
   "source": [
    "text = \"12345\"\n",
    "print(text.isdigit())"
   ]
  },
  {
   "cell_type": "markdown",
   "id": "ca524db4-963f-4209-9a02-5ac03e30b51c",
   "metadata": {},
   "source": [
    "### isalnum()"
   ]
  },
  {
   "cell_type": "code",
   "execution_count": 110,
   "id": "a64e0783-4904-4dc0-829c-0940e57b4417",
   "metadata": {},
   "outputs": [
    {
     "name": "stdout",
     "output_type": "stream",
     "text": [
      "True\n"
     ]
    }
   ],
   "source": [
    "text = \"H123w\"\n",
    "print(text.isalnum())"
   ]
  },
  {
   "cell_type": "markdown",
   "id": "049eb493-52ef-480c-89cb-d0aeacac1786",
   "metadata": {},
   "source": [
    "### islower()"
   ]
  },
  {
   "cell_type": "code",
   "execution_count": 112,
   "id": "3206dbbc-d885-4298-a149-a0923bd56df8",
   "metadata": {},
   "outputs": [
    {
     "name": "stdout",
     "output_type": "stream",
     "text": [
      "True\n"
     ]
    }
   ],
   "source": [
    "text = \"hello\"\n",
    "print(text.islower()) "
   ]
  },
  {
   "cell_type": "markdown",
   "id": "c8187852-17fd-42d2-8a39-49e22e24db3a",
   "metadata": {},
   "source": [
    "### isupper()"
   ]
  },
  {
   "cell_type": "code",
   "execution_count": 114,
   "id": "a992c012-c6a2-4eaa-aacd-6c9a0a18b02b",
   "metadata": {},
   "outputs": [
    {
     "name": "stdout",
     "output_type": "stream",
     "text": [
      "True\n"
     ]
    }
   ],
   "source": [
    "text = \"RAMA\"\n",
    "print(text.isupper())"
   ]
  },
  {
   "cell_type": "markdown",
   "id": "e039779c-48c0-474b-a6a2-ccb8570d4266",
   "metadata": {},
   "source": [
    "### isspace()"
   ]
  },
  {
   "cell_type": "code",
   "execution_count": 116,
   "id": "863adbef-86e8-40b9-8419-171621adf350",
   "metadata": {},
   "outputs": [
    {
     "name": "stdout",
     "output_type": "stream",
     "text": [
      "True\n"
     ]
    }
   ],
   "source": [
    "text = \"   \"\n",
    "print(text.isspace())  "
   ]
  },
  {
   "cell_type": "markdown",
   "id": "c6a9f49e-7abe-4827-8c71-3fb4d96990aa",
   "metadata": {},
   "source": [
    "## Python  Format Strings:\n",
    "* Old Style Formatting:(% Operator): Use the % operator and placeholders."
   ]
  },
  {
   "cell_type": "code",
   "execution_count": 121,
   "id": "e113bd8b-6b94-4ecd-b116-eec0b03f9731",
   "metadata": {},
   "outputs": [
    {
     "name": "stdout",
     "output_type": "stream",
     "text": [
      "My name is Hari and I am 23 years old.\n"
     ]
    }
   ],
   "source": [
    "fname = \"Hari\"\n",
    "age = 23 \n",
    "f_str = \"My name is %s and I am %d years old.\" %(fname, age)\n",
    "print(f_str)"
   ]
  },
  {
   "cell_type": "markdown",
   "id": "c1fbf130-ac19-44fa-b4b6-b042ed7da811",
   "metadata": {},
   "source": [
    "* str.format(): This method was introduced in Python 2.6 and provides a more flexible way of formatting strings."
   ]
  },
  {
   "cell_type": "code",
   "execution_count": 124,
   "id": "da2e47ce-44cf-4f11-a1df-eef1a7945331",
   "metadata": {},
   "outputs": [
    {
     "name": "stdout",
     "output_type": "stream",
     "text": [
      "Hello, sai! You are 30 years old.\n"
     ]
    }
   ],
   "source": [
    "name = \"sai\"\n",
    "age = 30\n",
    "f_str1 = \"Hello, {}! You are {} years old.\".format(name, age)\n",
    "print(f_str1)"
   ]
  },
  {
   "cell_type": "markdown",
   "id": "e5f8c4ba-e2e3-4ed0-a2d0-8016d081b9c3",
   "metadata": {},
   "source": [
    "* f-strings are a more concise and readable way to format strings. They are prefixed with f and allow expressions to be embedded directly within curly braces."
   ]
  },
  {
   "cell_type": "code",
   "execution_count": 129,
   "id": "1575dcdc-b3ae-4aed-b1ce-90227df52aae",
   "metadata": {},
   "outputs": [
    {
     "name": "stdout",
     "output_type": "stream",
     "text": [
      "My name is Ramya, I am 30 years old.\n"
     ]
    }
   ],
   "source": [
    "name = \"Ramya\"\n",
    "age = 30\n",
    "f_s = f\"My name is {name}, I am {age} years old.\"\n",
    "print(f_s)"
   ]
  }
 ],
 "metadata": {
  "kernelspec": {
   "display_name": "Python 3 (ipykernel)",
   "language": "python",
   "name": "python3"
  },
  "language_info": {
   "codemirror_mode": {
    "name": "ipython",
    "version": 3
   },
   "file_extension": ".py",
   "mimetype": "text/x-python",
   "name": "python",
   "nbconvert_exporter": "python",
   "pygments_lexer": "ipython3",
   "version": "3.11.7"
  }
 },
 "nbformat": 4,
 "nbformat_minor": 5
}
