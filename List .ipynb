{
 "cells": [
  {
   "cell_type": "markdown",
   "id": "a1ea589f-41d6-4133-86a7-985d537b8584",
   "metadata": {},
   "source": [
    "# Creating a List "
   ]
  },
  {
   "cell_type": "markdown",
   "id": "c5681ae0-d3fb-45c4-b20a-67289f1264da",
   "metadata": {},
   "source": [
    "* Lists are used to store multiple items in a single variable.\n",
    "* Lists are created using square brackets.\n",
    "* let us see some examples of creating a list:"
   ]
  },
  {
   "cell_type": "code",
   "execution_count": 5,
   "id": "93b28e66-adb9-4973-a4c0-8b6f073fdfb2",
   "metadata": {},
   "outputs": [
    {
     "name": "stdout",
     "output_type": "stream",
     "text": [
      "['Deepika', 23, 'ongole']\n",
      "[1, 3.14, (3+2j)]\n",
      "['apple', 'mango', 'guva', 'banana', 'orange']\n",
      "['manam', 'zero', 'bahubhali', 'murari', 'life is beautiful']\n",
      "['suppu', 'prava', 'saki', 'vyshu', 'bala']\n",
      "['ferrari', 'audi', 'BMW', 'Hundai']\n",
      "[1, 2, 3, 4, 5, 6, 7, 8, 9]\n",
      "[0, 1, 2, 3, 4, 5, 6, 7, 8, 9]\n",
      "[1.2, 2.3, 3.4, 4.5, 5.6, 6.7]\n",
      "[1, 'april', 2001]\n"
     ]
    }
   ],
   "source": [
    "x_1 = [\"Deepika\",23,\"ongole\",]\n",
    "print(x_1)\n",
    "y_2 = [1,3.14,3+2j]\n",
    "print(y_2)\n",
    "fruits_3 = [\"apple\",\"mango\",\"guva\",\"banana\",\"orange\"]\n",
    "print(fruits_3)\n",
    "movies_4 = [\"manam\",\"zero\",\"bahubhali\",\"murari\",\"life is beautiful\"]\n",
    "print(movies_4)\n",
    "frnds_5 = [\"suppu\",\"prava\",\"saki\",\"vyshu\",\"bala\"]\n",
    "print(frnds_5)\n",
    "cars_6 = [\"ferrari\",\"audi\",\"BMW\",\"Hundai\"]\n",
    "print(cars_6)\n",
    "na_num_7 = [1,2,3,4,5,6,7,8,9]\n",
    "print(na_num_7)\n",
    "w_num_8 = [0,1,2,3,4,5,6,7,8,9]\n",
    "print(w_num_8)\n",
    "f_num_9 = [1.2,2.3,3.4,4.5,5.6,6.7]\n",
    "print(f_num_9)\n",
    "Dob_10 = [1,\"april\",2001]\n",
    "print(Dob_10)\n"
   ]
  },
  {
   "cell_type": "markdown",
   "id": "c1c30bd5-8c25-4779-ac3e-991baf361147",
   "metadata": {},
   "source": [
    "* Academy = data science, data analyst,bussiness analyst,full stack java,full stack python,sales force,data managment,cat,aws,gcp. By using these data create a list and access elements by using slice operations."
   ]
  },
  {
   "cell_type": "code",
   "execution_count": 23,
   "id": "9c644803-655c-4924-8102-eddc6a374d99",
   "metadata": {},
   "outputs": [
    {
     "name": "stdout",
     "output_type": "stream",
     "text": [
      "data science\n",
      "data analyst\n",
      "bussiness analyst\n",
      "full stack java\n",
      "full stack python\n",
      "sales force\n",
      "data managment\n",
      "cat\n",
      "aws\n",
      "gcp\n",
      "gcp\n",
      "aws\n",
      "cat\n",
      "data managment\n",
      "sales force\n",
      "full stack python\n",
      "full stack java\n",
      "bussiness analyst\n",
      "data analyst\n",
      "data science\n",
      "['data science', 'data analyst', 'bussiness analyst', 'full stack java', 'full stack python', 'sales force', 'data managment', 'cat', 'aws', 'gcp']\n"
     ]
    }
   ],
   "source": [
    "Academy = [\"data science\", \"data analyst\", \"bussiness analyst\", \"full stack java\", \"full stack python\", \"sales force\", \"data managment\", \"cat\", \"aws\", \"gcp\"]\n",
    "#Acess elements by using positive slicing operator\n",
    "print(Academy[0])\n",
    "print(Academy[1])\n",
    "print(Academy[2])\n",
    "print(Academy[3])\n",
    "print(Academy[4])\n",
    "print(Academy[5])\n",
    "print(Academy[6])\n",
    "print(Academy[7])\n",
    "print(Academy[8])\n",
    "print(Academy[9])\n",
    "\n",
    "#Access elements by using negative slicing operator\n",
    "print(Academy[-1])\n",
    "print(Academy[-2])\n",
    "print(Academy[-3])\n",
    "print(Academy[-4])\n",
    "print(Academy[-5])\n",
    "print(Academy[-6])\n",
    "print(Academy[-7])\n",
    "print(Academy[-8])\n",
    "print(Academy[-9])\n",
    "print(Academy[-10])\n",
    "\n",
    "#Accessing group of elements\n",
    "print(Academy[:10])"
   ]
  },
  {
   "cell_type": "code",
   "execution_count": 31,
   "id": "f40097dc-5cef-451a-b392-f3bb07c0ba8e",
   "metadata": {},
   "outputs": [
    {
     "name": "stdout",
     "output_type": "stream",
     "text": [
      "[10, 'Hanuman', 12.4, (8+9j), 'D']\n",
      "[20, 'Hanuman', 12.4, (8+9j), 'D']\n",
      "[20, 'Hanuman', 'ram', 'sita', (8+9j), 'D']\n"
     ]
    }
   ],
   "source": [
    "list = [10,\"Hanuman\",12.4,8+9j,'D']\n",
    "print(list)\n",
    "\n",
    "#Changing the list examples\n",
    "list[0]=20\n",
    "print(list)\n",
    "\n",
    "#Modifying the list examples \n",
    "list[2:3] = [\"ram\",\"sita\"]\n",
    "print(list)\n"
   ]
  },
  {
   "cell_type": "markdown",
   "id": "b51c7976-0aaa-4856-a40b-3cae9afccc08",
   "metadata": {},
   "source": [
    "# List Methods\n",
    "* append():  It is used to add an element at the end of the list.\n",
    "* extend():  It is used to extend an element in a list at a specified location.\n",
    "* remove():  It is used to remove a first occurrence of an element.\n",
    "* pop(): It is used to remove and returns an element at a specified index.\n",
    "* index():It returns the index of the list occurrence of a value.\n",
    "* count():It is used to return the no of occurence of a value.\n",
    "* sort():It is used to sort the list of elements in ascending order.\n",
    "* reverse(): It is used to reverse the list of elements.\n",
    "* clear(): Removes all the elements from the list.\n",
    "* copy(): It is used to copy the elements of one list and store it the copied list in another one."
   ]
  },
  {
   "cell_type": "markdown",
   "id": "aa47086d-1cb6-49d4-9b00-8bb67a8459dd",
   "metadata": {},
   "source": [
    "## append():"
   ]
  },
  {
   "cell_type": "code",
   "execution_count": 4,
   "id": "23838750-b42d-47c6-81f2-eb337319450b",
   "metadata": {},
   "outputs": [
    {
     "name": "stdout",
     "output_type": "stream",
     "text": [
      "[1, 2, 3, 4, 5, 6]\n"
     ]
    }
   ],
   "source": [
    "a = [1,2,3,4,5]\n",
    "a.append(6)\n",
    "print(a)"
   ]
  },
  {
   "cell_type": "code",
   "execution_count": 6,
   "id": "f318bf47-d06e-49f8-81fb-34ac233d9556",
   "metadata": {},
   "outputs": [
    {
     "name": "stdout",
     "output_type": "stream",
     "text": [
      "['Sai', 'Rama', 'Sita', 'Hanuman', 'Shiva']\n"
     ]
    }
   ],
   "source": [
    "list = [\"Sai\",\"Rama\",\"Sita\",\"Hanuman\"]\n",
    "list.append(\"Shiva\")\n",
    "print(list)"
   ]
  },
  {
   "cell_type": "markdown",
   "id": "ad189e36-9726-4810-b930-7f16767a48ee",
   "metadata": {},
   "source": [
    "## extend():"
   ]
  },
  {
   "cell_type": "code",
   "execution_count": 9,
   "id": "160d1469-ea85-4fa2-b28a-102a7bff1347",
   "metadata": {},
   "outputs": [
    {
     "name": "stdout",
     "output_type": "stream",
     "text": [
      "[12, 23, 34, 45, 56, 1, 2, 3]\n"
     ]
    }
   ],
   "source": [
    "b = [12,23,34,45,56]\n",
    "c = [1,2,3]\n",
    "b.extend(c)\n",
    "print(b)"
   ]
  },
  {
   "cell_type": "markdown",
   "id": "272102b7-eec7-4abe-9cfd-21023b4f8a8c",
   "metadata": {},
   "source": [
    "## insert():"
   ]
  },
  {
   "cell_type": "code",
   "execution_count": 14,
   "id": "6109ec48-237a-405a-a214-008e4a21b86d",
   "metadata": {},
   "outputs": [
    {
     "name": "stdout",
     "output_type": "stream",
     "text": [
      "[10, 20, 30, 40, 45, 50]\n"
     ]
    }
   ],
   "source": [
    "d = [10,20,30,40,50]\n",
    "d.insert(4,45)\n",
    "print(d)"
   ]
  },
  {
   "cell_type": "markdown",
   "id": "3e0b72e7-83de-4883-bee4-adc0584339fd",
   "metadata": {},
   "source": [
    "## remove():"
   ]
  },
  {
   "cell_type": "code",
   "execution_count": 17,
   "id": "3b7aa376-e3fc-472b-b006-eee5e65c9766",
   "metadata": {},
   "outputs": [
    {
     "name": "stdout",
     "output_type": "stream",
     "text": [
      "[1.2, 3.4, 4.5, 5.6]\n"
     ]
    }
   ],
   "source": [
    "e = [1.2,2.3,3.4,4.5,5.6]\n",
    "e.remove(2.3)\n",
    "print(e)"
   ]
  },
  {
   "cell_type": "markdown",
   "id": "38d23fc8-6fa1-4780-bee5-7d6f3483ea67",
   "metadata": {},
   "source": [
    "## pop():"
   ]
  },
  {
   "cell_type": "code",
   "execution_count": 32,
   "id": "629f4753-574a-4660-8863-edb6d4c62fb1",
   "metadata": {},
   "outputs": [
    {
     "name": "stdout",
     "output_type": "stream",
     "text": [
      "5\n",
      "[1, 2, 3, 4, 6, 7]\n"
     ]
    }
   ],
   "source": [
    "ab =[1,2,3,4,5,6,7]\n",
    "ef = ab.pop(4)\n",
    "print(ef)\n",
    "print(ab)"
   ]
  },
  {
   "cell_type": "markdown",
   "id": "bcbc60e5-fd55-481b-934e-3458deb6da31",
   "metadata": {},
   "source": [
    "## insert():"
   ]
  },
  {
   "cell_type": "code",
   "execution_count": 20,
   "id": "aa72ee89-3179-4a51-9bf3-204cf6d6fb15",
   "metadata": {},
   "outputs": [
    {
     "name": "stdout",
     "output_type": "stream",
     "text": [
      "0\n"
     ]
    }
   ],
   "source": [
    "f = [11,22,33,44,55,66]\n",
    "g = f.index(11)\n",
    "print(g)"
   ]
  },
  {
   "cell_type": "code",
   "execution_count": 22,
   "id": "0a48e8de-0adc-4900-8e78-c9edf79a066b",
   "metadata": {},
   "outputs": [
    {
     "name": "stdout",
     "output_type": "stream",
     "text": [
      "5\n"
     ]
    }
   ],
   "source": [
    "f = [11,22,33,44,55,66]\n",
    "g = f.index(66)\n",
    "print(g)"
   ]
  },
  {
   "cell_type": "markdown",
   "id": "f13b6164-8af9-493d-9fc6-f0031a02b8a2",
   "metadata": {},
   "source": [
    "## count():"
   ]
  },
  {
   "cell_type": "code",
   "execution_count": 27,
   "id": "c55da80e-7d9a-4911-9cd0-5c7a08242629",
   "metadata": {},
   "outputs": [
    {
     "name": "stdout",
     "output_type": "stream",
     "text": [
      "3\n"
     ]
    }
   ],
   "source": [
    "h = [1.0,2.0,3.0,4.0,5.0,4.0,4.0,2.0]\n",
    "i = h.count(4.0)\n",
    "print(i)"
   ]
  },
  {
   "cell_type": "markdown",
   "id": "788489ea-d16d-4855-9550-dc801c085f8f",
   "metadata": {},
   "source": [
    "## sort():"
   ]
  },
  {
   "cell_type": "code",
   "execution_count": 35,
   "id": "dfa02716-d221-4322-bea0-c10ff0f4786a",
   "metadata": {},
   "outputs": [
    {
     "name": "stdout",
     "output_type": "stream",
     "text": [
      "[6, 8, 10, 11, 12, 21, 32, 32, 46, 68]\n"
     ]
    }
   ],
   "source": [
    "cd = [12,32,46,68,32,11,21,10,8,6]\n",
    "cd.sort()\n",
    "print(cd)\n"
   ]
  },
  {
   "cell_type": "markdown",
   "id": "66356ab6-4310-4d31-851a-87e5b0dd7b69",
   "metadata": {},
   "source": [
    "## reverse():"
   ]
  },
  {
   "cell_type": "code",
   "execution_count": 38,
   "id": "60cec4a6-2fc0-406a-9a35-e7ddc7f96ac0",
   "metadata": {},
   "outputs": [
    {
     "name": "stdout",
     "output_type": "stream",
     "text": [
      "[6, 8, 10, 21, 11, 32, 68, 46, 32, 12]\n"
     ]
    }
   ],
   "source": [
    "cd = [12,32,46,68,32,11,21,10,8,6]\n",
    "cd.reverse()\n",
    "print(cd)"
   ]
  },
  {
   "cell_type": "markdown",
   "id": "dcf380ad-7394-4d3c-a56a-9c16931b4181",
   "metadata": {},
   "source": [
    "## clear():"
   ]
  },
  {
   "cell_type": "code",
   "execution_count": 41,
   "id": "23d3f989-55e0-431d-ba0e-c63aaea69dbe",
   "metadata": {},
   "outputs": [
    {
     "name": "stdout",
     "output_type": "stream",
     "text": [
      "[]\n"
     ]
    }
   ],
   "source": [
    "cd = [12,32,46,68,32,11,21,10,8,6]\n",
    "cd.clear()\n",
    "print(cd)"
   ]
  },
  {
   "cell_type": "markdown",
   "id": "ad45bcf4-54fb-4e53-9de2-ef4d9881541d",
   "metadata": {},
   "source": [
    "## copy():"
   ]
  },
  {
   "cell_type": "code",
   "execution_count": 50,
   "id": "59d3be8f-2b49-4197-bb26-8c4ad1843453",
   "metadata": {},
   "outputs": [
    {
     "name": "stdout",
     "output_type": "stream",
     "text": [
      "['sai', 1, 'rama', 2, 'Hanuman', 3]\n"
     ]
    }
   ],
   "source": [
    "abc=[\"sai\",1,\"rama\",2,\"Hanuman\",3]\n",
    "xy = abc.copy()\n",
    "print(xy)"
   ]
  }
 ],
 "metadata": {
  "kernelspec": {
   "display_name": "Python 3 (ipykernel)",
   "language": "python",
   "name": "python3"
  },
  "language_info": {
   "codemirror_mode": {
    "name": "ipython",
    "version": 3
   },
   "file_extension": ".py",
   "mimetype": "text/x-python",
   "name": "python",
   "nbconvert_exporter": "python",
   "pygments_lexer": "ipython3",
   "version": "3.11.7"
  }
 },
 "nbformat": 4,
 "nbformat_minor": 5
}
