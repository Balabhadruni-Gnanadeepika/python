{
 "cells": [
  {
   "cell_type": "markdown",
   "id": "d25865b9-366a-4003-a613-9a91c45534a5",
   "metadata": {},
   "source": [
    "# Difference between equal to and real equal to\n",
    "* equal to is used for assigning the values to a variable\n",
    "* real equal to is used for comparising the values and return true or false"
   ]
  },
  {
   "cell_type": "markdown",
   "id": "99cbc552-8938-43f4-becf-bfeb4702da17",
   "metadata": {},
   "source": [
    "# Examples of using Comparison operators\n",
    "* with the values of a=-91 and b=32"
   ]
  },
  {
   "cell_type": "code",
   "execution_count": 3,
   "id": "cc650cc9-55e8-495c-abd5-59df46098cf1",
   "metadata": {},
   "outputs": [
    {
     "name": "stdout",
     "output_type": "stream",
     "text": [
      "False\n",
      "a!=b True\n",
      "a>b False\n",
      "a<b True\n",
      "a>=b False\n",
      "a<=b True\n"
     ]
    }
   ],
   "source": [
    "a=-91\n",
    "b=32\n",
    "# equal to operator\n",
    "print(a==b)\n",
    "\n",
    "#not equal to\n",
    "print('a!=b',a!=b)\n",
    "\n",
    "#greater than operator\n",
    "print('a>b',a>b)\n",
    "\n",
    "#less than operator\n",
    "print('a<b',a<b)\n",
    "\n",
    "#greater than or equal to\n",
    "print('a>=b',a>=b)\n",
    "\n",
    "#less than or equal to\n",
    "print('a<=b',a<=b)"
   ]
  },
  {
   "cell_type": "markdown",
   "id": "1709a8bb-efb4-433e-a164-43b405da9847",
   "metadata": {},
   "source": [
    "# Type function definition\n",
    "* Python type() is a built-in function that returns the type of the \n",
    "objects/data elements stored in any data type or returns a new type\n",
    "object depending on the arguments passed to the function.\n",
    "                           Or\n",
    "* The Python type() function prints what type of data structures are\n",
    "  used to store the data elements in a program."
   ]
  },
  {
   "cell_type": "markdown",
   "id": "79b76cd9-38da-4d19-abf6-a2680ad7853f",
   "metadata": {},
   "source": [
    "# Bool function\n",
    "* The bool() function returns the boolean value of a specified object.\n",
    "* The object will always return True, unless:\r",
    "* \r\n",
    "The object is empty, like [], (), {* }\r\n",
    "The object is Fa,\n",
    "* se\r\n",
    "The object ,i* s 0\r\n",
    "The object is. None\r\n",
    "\r\n"
   ]
  },
  {
   "cell_type": "markdown",
   "id": "869f32f0-539e-4647-a364-4282d8b087b6",
   "metadata": {},
   "source": [
    "# Type Casting  or Type Conversion examples\n"
   ]
  },
  {
   "cell_type": "markdown",
   "id": "47300ecf-19b4-4d4d-98fa-b1198215a3dc",
   "metadata": {},
   "source": [
    "* Int(): Python Int() function take float or string as an argument and returns int type object.\r",
    "* \n",
    "float(): Python float() function take int or string as an argument and return float type objectt."
   ]
  },
  {
   "cell_type": "code",
   "execution_count": 22,
   "id": "a693e20f-67d4-42f8-9779-61fd69ecf39b",
   "metadata": {},
   "outputs": [
    {
     "name": "stdout",
     "output_type": "stream",
     "text": [
      "<class 'float'>\n",
      "<class 'int'>\n",
      "<class 'complex'>\n",
      "<class 'int'>\n",
      "<class 'complex'>\n",
      "<class 'float'>\n"
     ]
    }
   ],
   "source": [
    "#int() counverting  into integer type\n",
    "a1=2.34\n",
    "b1=23\n",
    "c1=3+9j\n",
    "print(type(a1))\n",
    "print(type(b1))\n",
    "print(type(c1))\n",
    "print(type(int(a1)))\n",
    "print(type(complex(a1)))\n",
    "print(type(float(b1)))"
   ]
  },
  {
   "cell_type": "code",
   "execution_count": null,
   "id": "8150b6f8-102c-43fa-a6d5-02b3024393c3",
   "metadata": {},
   "outputs": [],
   "source": []
  }
 ],
 "metadata": {
  "kernelspec": {
   "display_name": "Python 3 (ipykernel)",
   "language": "python",
   "name": "python3"
  },
  "language_info": {
   "codemirror_mode": {
    "name": "ipython",
    "version": 3
   },
   "file_extension": ".py",
   "mimetype": "text/x-python",
   "name": "python",
   "nbconvert_exporter": "python",
   "pygments_lexer": "ipython3",
   "version": "3.11.7"
  }
 },
 "nbformat": 4,
 "nbformat_minor": 5
}
