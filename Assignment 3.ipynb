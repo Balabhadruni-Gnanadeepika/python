{
 "cells": [
  {
   "cell_type": "markdown",
   "id": "83c74474-0edb-4554-b82c-1491bcde3047",
   "metadata": {},
   "source": [
    "# Define Python\n",
    " Python is a High level programming language for general purpose and object oriented programming language."
   ]
  },
  {
   "cell_type": "markdown",
   "id": "6601016b-3be6-4db3-9444-b83677aa2d24",
   "metadata": {},
   "source": [
    "## Create five valid and invalid variables"
   ]
  },
  {
   "cell_type": "code",
   "execution_count": 7,
   "id": "b3552081-3a2a-4ce7-98d2-7cbb0ce267f6",
   "metadata": {},
   "outputs": [],
   "source": [
    "# Valid variables\n",
    "S_name = \"Deepu\"\n",
    "id123 = 19\n",
    "_place = \"Ongole\"\n",
    "S10_ = \"Native place AP\"\n",
    "Name_frnds1 = \"suppu\""
   ]
  },
  {
   "cell_type": "code",
   "execution_count": 3,
   "id": "12579d20-7161-402a-971b-d1cabae98312",
   "metadata": {},
   "outputs": [
    {
     "ename": "SyntaxError",
     "evalue": "invalid decimal literal (1214194589.py, line 2)",
     "output_type": "error",
     "traceback": [
      "\u001b[1;36m  Cell \u001b[1;32mIn[3], line 2\u001b[1;36m\u001b[0m\n\u001b[1;33m    1_name = \"sai\"\u001b[0m\n\u001b[1;37m     ^\u001b[0m\n\u001b[1;31mSyntaxError\u001b[0m\u001b[1;31m:\u001b[0m invalid decimal literal\n"
     ]
    }
   ],
   "source": [
    "# Invalid Variables\n",
    "1_name = \"sai\"\n",
    "@p = \"Hyd\"\n",
    "*_class = 11\n",
    "23$lang = \"Telugu\"\n",
    "!_Frnd = \"ram\""
   ]
  },
  {
   "cell_type": "markdown",
   "id": "6ff78c38-1cde-4d01-99c2-a76da46182f7",
   "metadata": {},
   "source": [
    "# Define List"
   ]
  },
  {
   "cell_type": "markdown",
   "id": "e2881a48-c741-4be3-9cfb-38b5ebeaea89",
   "metadata": {},
   "source": [
    "* List is collection of different data types and It is mutuable which means we can change the elements inside a list , and it is represented in a square brackets [] and the elements inside the list seperated by comma (,)."
   ]
  },
  {
   "cell_type": "code",
   "execution_count": 13,
   "id": "b6386ffe-1719-4b90-be78-2a5581fb59e3",
   "metadata": {},
   "outputs": [
    {
     "name": "stdout",
     "output_type": "stream",
     "text": [
      "Deepu\n",
      "123\n",
      "A\n",
      "Ongole\n",
      "Pace college\n",
      "85\n",
      "Mango\n",
      "2023\n",
      "Cricket\n",
      "12.34\n"
     ]
    }
   ],
   "source": [
    "List_1 =[\"Deepu\",123,'A',\"Ongole\",\"Pace college\",85,\"Mango\",2023,\"Cricket\",12.34]\n",
    "print(List_1[0])\n",
    "print(List_1[1])\n",
    "print(List_1[2])\n",
    "print(List_1[3])\n",
    "print(List_1[4])\n",
    "print(List_1[5])\n",
    "print(List_1[6])\n",
    "print(List_1[7])\n",
    "print(List_1[8])\n",
    "print(List_1[9])"
   ]
  },
  {
   "cell_type": "markdown",
   "id": "fc13a7ee-8399-4754-b4b7-8d543ed06038",
   "metadata": {},
   "source": [
    "* Create a string "
   ]
  },
  {
   "cell_type": "code",
   "execution_count": 25,
   "id": "a08a09bb-4629-42d9-bfba-47db226d3a85",
   "metadata": {},
   "outputs": [
    {
     "name": "stdout",
     "output_type": "stream",
     "text": [
      "My name is Deepika\n"
     ]
    }
   ],
   "source": [
    "Str1 = \"My name is Deepika\"\n",
    "print(Str1)"
   ]
  },
  {
   "cell_type": "markdown",
   "id": "6b003665-2cfd-4e3f-a0ab-ec0b7079fa8b",
   "metadata": {},
   "source": [
    "* Create a tuple"
   ]
  },
  {
   "cell_type": "code",
   "execution_count": 28,
   "id": "2d9bcf85-4c78-458b-9e40-d60c672a052b",
   "metadata": {},
   "outputs": [
    {
     "name": "stdout",
     "output_type": "stream",
     "text": [
      "('apple', 'carrot', 'Guva')\n"
     ]
    }
   ],
   "source": [
    "mytuple_1 = (\"apple\",\"carrot\",\"Guva\")\n",
    "print(mytuple_1)"
   ]
  },
  {
   "cell_type": "markdown",
   "id": "0e977b07-b5b9-4ea8-8d27-88ba19e68ea8",
   "metadata": {},
   "source": [
    "* Create a dictionary"
   ]
  },
  {
   "cell_type": "code",
   "execution_count": 30,
   "id": "13890efb-ea38-4148-accb-94500b6875f7",
   "metadata": {},
   "outputs": [
    {
     "name": "stdout",
     "output_type": "stream",
     "text": [
      "{'name': 'Ramya', 'ID': 1234, 'Clg': 'Gayathri'}\n"
     ]
    }
   ],
   "source": [
    "my_dictionary ={ \"name\" : \"Ramya\",\"ID\" : 1234,\"Clg\" : \"Gayathri\"}\n",
    "print(my_dictionary)"
   ]
  },
  {
   "cell_type": "markdown",
   "id": "66dc8a20-432d-4319-829f-eb7fdf647749",
   "metadata": {},
   "source": [
    "* Access the elements above data types"
   ]
  },
  {
   "cell_type": "code",
   "execution_count": 46,
   "id": "99827268-6bc3-4123-82e4-b55be1e6d5aa",
   "metadata": {},
   "outputs": [
    {
     "name": "stdout",
     "output_type": "stream",
     "text": [
      "a\n",
      "My name is \n"
     ]
    }
   ],
   "source": [
    "print(Str1[-1])\n",
    "print(Str1[:11])"
   ]
  },
  {
   "cell_type": "code",
   "execution_count": 42,
   "id": "ffaab7b8-a214-4157-87f9-0459fb320cf1",
   "metadata": {},
   "outputs": [
    {
     "name": "stdout",
     "output_type": "stream",
     "text": [
      "Guva\n",
      "('apple', 'carrot', 'Guva')\n"
     ]
    }
   ],
   "source": [
    "print(mytuple_1[2])\n",
    "print(mytuple_1[:3])"
   ]
  },
  {
   "cell_type": "code",
   "execution_count": 56,
   "id": "3a90c53f-db16-40bf-8340-3ca356b2b30c",
   "metadata": {},
   "outputs": [
    {
     "name": "stdout",
     "output_type": "stream",
     "text": [
      "{'name': 'Ramya', 'ID': 1234, 'Clg': 'Gayathri'}\n"
     ]
    }
   ],
   "source": [
    "print(my_dictionary)"
   ]
  },
  {
   "cell_type": "markdown",
   "id": "ee22f62e-4d89-4dac-90fa-2e7704f25c2c",
   "metadata": {},
   "source": [
    "* Apply methods on each data types"
   ]
  },
  {
   "cell_type": "markdown",
   "id": "d4513718-712c-4fa6-a6e2-15df87420986",
   "metadata": {},
   "source": [
    "## List Methods\n",
    "* append\n",
    "* extend\n",
    "* insert\n",
    "* remove\n",
    "* index\n",
    "* count\n",
    "* clear\n",
    "* max"
   ]
  },
  {
   "cell_type": "code",
   "execution_count": 98,
   "id": "b3b9e1e2-931a-4305-99e8-86ab3f3f0e07",
   "metadata": {},
   "outputs": [
    {
     "name": "stdout",
     "output_type": "stream",
     "text": [
      "[1, 2, 3, 4, 5, 6]\n"
     ]
    }
   ],
   "source": [
    "a = [1,2,3,4,5]\n",
    "a.append(6)\n",
    "print(a)"
   ]
  },
  {
   "cell_type": "code",
   "execution_count": 100,
   "id": "937a21a2-9fb4-4164-aa48-bcb372275811",
   "metadata": {},
   "outputs": [
    {
     "name": "stdout",
     "output_type": "stream",
     "text": [
      "[12, 23, 34, 45, 56, 1, 2, 3]\n"
     ]
    }
   ],
   "source": [
    "b = [12,23,34,45,56]\n",
    "c = [1,2,3]\n",
    "b.extend(c)\n",
    "print(b)"
   ]
  },
  {
   "cell_type": "code",
   "execution_count": 102,
   "id": "7e0cc7ea-4cd6-4afd-86f7-58e6e50ca27c",
   "metadata": {},
   "outputs": [
    {
     "name": "stdout",
     "output_type": "stream",
     "text": [
      "[10, 20, 30, 40, 45, 50]\n"
     ]
    }
   ],
   "source": [
    "d = [10,20,30,40,50]\n",
    "d.insert(4,45)\n",
    "print(d)"
   ]
  },
  {
   "cell_type": "code",
   "execution_count": 104,
   "id": "6b1db4c1-697f-4c72-8c51-4c6820670bd3",
   "metadata": {},
   "outputs": [
    {
     "name": "stdout",
     "output_type": "stream",
     "text": [
      "[1.2, 3.4, 4.5, 5.6]\n"
     ]
    }
   ],
   "source": [
    "e = [1.2,2.3,3.4,4.5,5.6]\n",
    "e.remove(2.3)\n",
    "print(e)"
   ]
  },
  {
   "cell_type": "code",
   "execution_count": 106,
   "id": "338fab84-e52d-445b-aed3-9cadb48bc51f",
   "metadata": {},
   "outputs": [
    {
     "name": "stdout",
     "output_type": "stream",
     "text": [
      "0\n"
     ]
    }
   ],
   "source": [
    "f = [11,22,33,44,55,66]\n",
    "g = f.index(11)\n",
    "print(g)"
   ]
  },
  {
   "cell_type": "code",
   "execution_count": 108,
   "id": "76e9fdd1-fc48-40b2-b740-7838ece9c7ad",
   "metadata": {},
   "outputs": [
    {
     "name": "stdout",
     "output_type": "stream",
     "text": [
      "3\n"
     ]
    }
   ],
   "source": [
    "h = [1.0,2.0,3.0,4.0,5.0,4.0,4.0,2.0]\n",
    "i = h.count(4.0)\n",
    "print(i)"
   ]
  },
  {
   "cell_type": "code",
   "execution_count": 110,
   "id": "305b030e-343e-4f86-9ce0-f7b685df5847",
   "metadata": {},
   "outputs": [
    {
     "name": "stdout",
     "output_type": "stream",
     "text": [
      "[]\n"
     ]
    }
   ],
   "source": [
    "cd = [12,32,46,68,32,11,21,10,8,6]\n",
    "cd.clear()\n",
    "print(cd)"
   ]
  },
  {
   "cell_type": "code",
   "execution_count": 59,
   "id": "2a6e78df-7718-4f73-b587-29ff7734bb8a",
   "metadata": {},
   "outputs": [
    {
     "name": "stdout",
     "output_type": "stream",
     "text": [
      "856\n"
     ]
    }
   ],
   "source": [
    "ef =[1,2,3,4,5,6,7,856,78]\n",
    "print(max(ef))"
   ]
  },
  {
   "cell_type": "markdown",
   "id": "06c13650-a299-48dc-b4df-2b1e4a87ed15",
   "metadata": {},
   "source": [
    "## String Methods \n",
    "* upper(): Converts all characters in the string to uppercase.\n",
    "* lower(): Converts all characters in the string to lowercase.\n",
    "* capitalize(): Capitalizes the first character of the string.\n",
    "* title(): Capitalizes the first character of each word in the string.\n",
    "* strip(): Removes leading and trailing whitespace."
   ]
  },
  {
   "cell_type": "code",
   "execution_count": 63,
   "id": "401317ed-660a-42d4-b7d0-8f0eed0f3a37",
   "metadata": {},
   "outputs": [
    {
     "name": "stdout",
     "output_type": "stream",
     "text": [
      "GNANADEEPIKA\n"
     ]
    }
   ],
   "source": [
    "text = \"gnanadeepika\"\n",
    "print(text.upper())  "
   ]
  },
  {
   "cell_type": "code",
   "execution_count": 65,
   "id": "d2adff05-ce41-467b-ad5a-1ffa7cc03846",
   "metadata": {},
   "outputs": [
    {
     "name": "stdout",
     "output_type": "stream",
     "text": [
      "balabhadruni\n"
     ]
    }
   ],
   "source": [
    "text = \"BALABHADRUNI\"\n",
    "print(text.lower()) "
   ]
  },
  {
   "cell_type": "code",
   "execution_count": 67,
   "id": "09fbc39e-6d65-4d5e-bb19-49e47a01775e",
   "metadata": {},
   "outputs": [
    {
     "name": "stdout",
     "output_type": "stream",
     "text": [
      "Hello world\n"
     ]
    }
   ],
   "source": [
    "text = \"hello world\"\n",
    "print(text.capitalize())  "
   ]
  },
  {
   "cell_type": "code",
   "execution_count": 69,
   "id": "fb29785f-e007-4d1e-bb88-0b5715eab5a8",
   "metadata": {},
   "outputs": [
    {
     "name": "stdout",
     "output_type": "stream",
     "text": [
      "Hello World\n"
     ]
    }
   ],
   "source": [
    "text = \"hello world\"\n",
    "print(text.title()) "
   ]
  },
  {
   "cell_type": "code",
   "execution_count": 71,
   "id": "96f7cf61-d81b-422a-8d4f-ceb3ab11c6be",
   "metadata": {},
   "outputs": [
    {
     "name": "stdout",
     "output_type": "stream",
     "text": [
      "hello world\n"
     ]
    }
   ],
   "source": [
    "text = \"   hello world   \"\n",
    "print(text.strip())"
   ]
  },
  {
   "cell_type": "markdown",
   "id": "f2372776-bf50-40af-9751-bf7a8fbc20ab",
   "metadata": {},
   "source": [
    "## Tuple Methods\n",
    "* count\n",
    "* index"
   ]
  },
  {
   "cell_type": "code",
   "execution_count": 89,
   "id": "10bc1529-2446-4508-bb68-0ea94e87e062",
   "metadata": {},
   "outputs": [
    {
     "name": "stdout",
     "output_type": "stream",
     "text": [
      "2\n"
     ]
    }
   ],
   "source": [
    "my_tuple = (10, 28, 24, 32, 64, 24)\n",
    "print(my_tuple.count(24))"
   ]
  },
  {
   "cell_type": "code",
   "execution_count": 87,
   "id": "52b0aadd-7bb2-474c-8722-4bd0be4a4122",
   "metadata": {},
   "outputs": [
    {
     "name": "stdout",
     "output_type": "stream",
     "text": [
      "2\n"
     ]
    }
   ],
   "source": [
    "my_tuple = (10, 20, 30, 40, 30, 50)\n",
    "print(my_tuple.index(30))"
   ]
  },
  {
   "cell_type": "markdown",
   "id": "f2814e61-1c5c-4541-b94b-c336b61ebb12",
   "metadata": {},
   "source": [
    "## Dictionary methods\n",
    "* keys\n",
    "* values\n",
    "* items"
   ]
  },
  {
   "cell_type": "code",
   "execution_count": 75,
   "id": "3f523691-54e5-4c22-a7b1-d3b7802198ae",
   "metadata": {},
   "outputs": [
    {
     "name": "stdout",
     "output_type": "stream",
     "text": [
      "dict_keys(['name', 'ID', 'Clg'])\n"
     ]
    }
   ],
   "source": [
    "print(my_dictionary.keys())"
   ]
  },
  {
   "cell_type": "code",
   "execution_count": 77,
   "id": "6cec9e4a-1bc5-42c9-bc19-8196836dec6e",
   "metadata": {},
   "outputs": [
    {
     "name": "stdout",
     "output_type": "stream",
     "text": [
      "dict_values(['Ramya', 1234, 'Gayathri'])\n"
     ]
    }
   ],
   "source": [
    "print(my_dictionary.values()) "
   ]
  },
  {
   "cell_type": "code",
   "execution_count": 79,
   "id": "bf2d50e5-0bf1-465e-a6de-07bd1b82e85f",
   "metadata": {},
   "outputs": [
    {
     "name": "stdout",
     "output_type": "stream",
     "text": [
      "dict_items([('name', 'Ramya'), ('ID', 1234), ('Clg', 'Gayathri')])\n"
     ]
    }
   ],
   "source": [
    "print(my_dictionary.items())  "
   ]
  }
 ],
 "metadata": {
  "kernelspec": {
   "display_name": "Python 3 (ipykernel)",
   "language": "python",
   "name": "python3"
  },
  "language_info": {
   "codemirror_mode": {
    "name": "ipython",
    "version": 3
   },
   "file_extension": ".py",
   "mimetype": "text/x-python",
   "name": "python",
   "nbconvert_exporter": "python",
   "pygments_lexer": "ipython3",
   "version": "3.11.7"
  }
 },
 "nbformat": 4,
 "nbformat_minor": 5
}
