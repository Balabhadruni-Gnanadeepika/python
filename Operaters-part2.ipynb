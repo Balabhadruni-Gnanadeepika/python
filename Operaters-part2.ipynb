{
 "cells": [
  {
   "cell_type": "markdown",
   "id": "129e83e0-3250-417a-adc2-55c23b5708b4",
   "metadata": {},
   "source": [
    "# Logical Operators\n",
    "-used to check the expression is true or false\n",
    "* and   -   return true if both operands are true             - x and y\n",
    "* or    -   returns true if either of the operands is true    - x or y\n",
    "* not   -   returns true if the operands is false             - not x"
   ]
  },
  {
   "cell_type": "code",
   "execution_count": 3,
   "id": "14f61d39-fd0a-4121-9955-df55a397c60f",
   "metadata": {},
   "outputs": [
    {
     "name": "stdout",
     "output_type": "stream",
     "text": [
      "True\n"
     ]
    }
   ],
   "source": [
    "#logical and operator\n",
    "\n",
    "print(4>2  and  8<9)\n"
   ]
  },
  {
   "cell_type": "code",
   "execution_count": 7,
   "id": "ffbbea21-e87a-42e6-9f64-c9779b1f892a",
   "metadata": {},
   "outputs": [
    {
     "name": "stdout",
     "output_type": "stream",
     "text": [
      "True\n",
      "True\n"
     ]
    }
   ],
   "source": [
    "#Logical or operator\n",
    "\n",
    "print( 3>1 or 5<4)\n",
    "print( 3>1 or 4<2)\n"
   ]
  },
  {
   "cell_type": "code",
   "execution_count": 9,
   "id": "71ae4b9f-4804-4930-bb57-e7d0731e574e",
   "metadata": {},
   "outputs": [
    {
     "name": "stdout",
     "output_type": "stream",
     "text": [
      "False\n",
      "False\n"
     ]
    }
   ],
   "source": [
    "#not operator\n",
    "x=5\n",
    "print(not(x>2 and x<9))\n",
    "print(not(x>3 or x<4))"
   ]
  },
  {
   "cell_type": "markdown",
   "id": "63dd3a6a-e36f-4639-983b-ffb75087bd57",
   "metadata": {},
   "source": [
    "# Identify Operators\n",
    "- identify whether the value is present or not\n",
    "-  is   -    true if the operands are identical\n",
    "-  is not -   true if the operands are not identical"
   ]
  },
  {
   "cell_type": "code",
   "execution_count": 15,
   "id": "3e9a2ad1-688c-4a91-a6b4-1b80e1c13de2",
   "metadata": {},
   "outputs": [
    {
     "name": "stdout",
     "output_type": "stream",
     "text": [
      "False\n",
      "False\n",
      "True\n"
     ]
    },
    {
     "ename": "NameError",
     "evalue": "name 'p' is not defined",
     "output_type": "error",
     "traceback": [
      "\u001b[1;31m---------------------------------------------------------------------------\u001b[0m",
      "\u001b[1;31mNameError\u001b[0m                                 Traceback (most recent call last)",
      "Cell \u001b[1;32mIn[15], line 9\u001b[0m\n\u001b[0;32m      7\u001b[0m \u001b[38;5;28mprint\u001b[39m(c \u001b[38;5;129;01mis\u001b[39;00m d)\n\u001b[0;32m      8\u001b[0m \u001b[38;5;28mprint\u001b[39m( c \u001b[38;5;129;01mis\u001b[39;00m \u001b[38;5;129;01mnot\u001b[39;00m d)\n\u001b[1;32m----> 9\u001b[0m \u001b[38;5;28mprint\u001b[39m( c \u001b[38;5;129;01mis\u001b[39;00m p)\n",
      "\u001b[1;31mNameError\u001b[0m: name 'p' is not defined"
     ]
    }
   ],
   "source": [
    "a= 4\n",
    "b= 6\n",
    "c= \"deepu is learning Data Science\"\n",
    "d= \"Deepu is learning new skills\"\n",
    "\n",
    "print(a is b)\n",
    "print(c is d)\n",
    "print( c is not d)\n",
    "print( c is p)"
   ]
  },
  {
   "cell_type": "markdown",
   "id": "7db9c675-d27d-4d6a-9216-47bd51bbf4d0",
   "metadata": {},
   "source": [
    "# Membership Operators\n",
    "- they are used to tst whether a value or variable is found in a sequence\n",
    "- in      -     true  if thee value/ variable is found in a sequence\n",
    "- not in  -     true if the value/ variable is not found in the sequence"
   ]
  },
  {
   "cell_type": "code",
   "execution_count": 18,
   "id": "bdd151b7-b79e-4dab-ac11-7694e8df5655",
   "metadata": {},
   "outputs": [
    {
     "name": "stdout",
     "output_type": "stream",
     "text": [
      "True\n",
      "False\n",
      "False\n"
     ]
    }
   ],
   "source": [
    "x1= 'Hello world'\n",
    "y1= [1,2,3,4]\n",
    "\n",
    "#Check if 'H' is present in x string\n",
    "print('H' in x1)\n",
    "\n",
    "#Check if 'hello' is present in x string\n",
    "print('hello' in x1)\n",
    "\n",
    "#Check if 'a' key is present in y1\n",
    "print('a' in y1)\n",
    "\n",
    "\n"
   ]
  },
  {
   "cell_type": "markdown",
   "id": "020bf1d5-1e7c-4fa0-ba4f-f6242a8827b5",
   "metadata": {},
   "source": [
    "# Bitwise Operator\n",
    "\n",
    "Bitwise operators are used to perform bitwise calculations on integers. \n",
    "* '&' -        AND           - Sets each bit to 1 if both bits are 1           - x&y\n",
    "* '|' -        OR            - Sets each bit to 1 if one of two bits is        - x|y\n",
    "* '^' -        XOR           - Sets each bit to 1 if only one of two bits is 1 - x^y\n",
    "*  ~   -        NOT           - inverts all the bits                            - x~y\n",
    "* '<<'- Zero fill left shift - shift left by pushing zeros in from the right\n",
    "                               and let the leftmost bits fall off              - x<<2\n",
    "* '>>'- Signed right shift   - Shift right by pushing copies of the leftmost\n",
    "                               bit in form the left ,and let the rightmost bits\n",
    "                               fall off                                        - x>>2"
   ]
  },
  {
   "cell_type": "code",
   "execution_count": 26,
   "id": "f55a17a5-5c59-4fd6-b462-f52afb1d672c",
   "metadata": {},
   "outputs": [
    {
     "name": "stdout",
     "output_type": "stream",
     "text": [
      "1\n"
     ]
    }
   ],
   "source": [
    "\"\"\"& operator\n",
    "3 = 0011\n",
    "9 = 1001\n",
    "------------\n",
    "    0001\n",
    "\"\"\"\n",
    "print(3&9)"
   ]
  },
  {
   "cell_type": "code",
   "execution_count": 28,
   "id": "eadfaaab-3f89-46b7-8f0e-85958ce346b7",
   "metadata": {},
   "outputs": [
    {
     "name": "stdout",
     "output_type": "stream",
     "text": [
      "11\n"
     ]
    }
   ],
   "source": [
    "\"\"\" | operator\n",
    "3 = 0011\n",
    "9 = 1001\n",
    "-----------\n",
    "    1011\n",
    "-----------\n",
    "\"\"\"\n",
    "print(3|9)"
   ]
  },
  {
   "cell_type": "code",
   "execution_count": 32,
   "id": "b23e7a6b-4942-414b-ad9d-a9e113d4fd8c",
   "metadata": {},
   "outputs": [
    {
     "name": "stdout",
     "output_type": "stream",
     "text": [
      "10\n"
     ]
    }
   ],
   "source": [
    "\"\"\" ^ operator \n",
    "3 = 0011\n",
    "9 = 1001\n",
    "------------\n",
    "    1010\n",
    "------------\n",
    "\"\"\"\n",
    "print(3^9)"
   ]
  },
  {
   "cell_type": "code",
   "execution_count": 34,
   "id": "67e06388-5932-4c65-83a3-5adb6588dadc",
   "metadata": {},
   "outputs": [
    {
     "name": "stdout",
     "output_type": "stream",
     "text": [
      "-4\n"
     ]
    }
   ],
   "source": [
    "\"\"\" ~ operator\n",
    "3 = 0000000000011\n",
    "-------------------\n",
    "    1111111111100   = -4\n",
    " simple formula \n",
    " -----------------\n",
    " -(n+1)  -(3+1) =-4\n",
    " \"\"\"\n",
    "print(~3)"
   ]
  },
  {
   "cell_type": "code",
   "execution_count": 36,
   "id": "f6f7eca4-da46-49a1-b2c0-a402b8f9613d",
   "metadata": {},
   "outputs": [
    {
     "name": "stdout",
     "output_type": "stream",
     "text": [
      "2\n"
     ]
    }
   ],
   "source": [
    "\"\"\" >> operator moves each bit the specifed number of times to the right. Empty the 2 zeros\n",
    " if you move each bit 2 times to the right , 8 becomes 2:\n",
    " 8 = 1000\n",
    " becomes \n",
    " 2 = 0010  \n",
    " \"\"\"\n",
    "print(8>>2)"
   ]
  },
  {
   "cell_type": "code",
   "execution_count": 38,
   "id": "2bee6fd9-1dc2-4817-8b05-a486ecc1321a",
   "metadata": {},
   "outputs": [
    {
     "name": "stdout",
     "output_type": "stream",
     "text": [
      "12\n"
     ]
    }
   ],
   "source": [
    "\"\"\" \n",
    "The << operator inserts the specified number of 0's (in this case 2) from the right and let the leftmost bits fall off \n",
    " if you push 00 in from the left:\n",
    " 3= 000011  #8 4 2 1\n",
    " becomes \n",
    " 12 =001100\n",
    " \"\"\"\n",
    "print(3<<2)"
   ]
  },
  {
   "cell_type": "code",
   "execution_count": null,
   "id": "a095160f-96e6-48f8-b358-3769b30b5cb8",
   "metadata": {},
   "outputs": [],
   "source": []
  }
 ],
 "metadata": {
  "kernelspec": {
   "display_name": "Python 3 (ipykernel)",
   "language": "python",
   "name": "python3"
  },
  "language_info": {
   "codemirror_mode": {
    "name": "ipython",
    "version": 3
   },
   "file_extension": ".py",
   "mimetype": "text/x-python",
   "name": "python",
   "nbconvert_exporter": "python",
   "pygments_lexer": "ipython3",
   "version": "3.11.7"
  }
 },
 "nbformat": 4,
 "nbformat_minor": 5
}
