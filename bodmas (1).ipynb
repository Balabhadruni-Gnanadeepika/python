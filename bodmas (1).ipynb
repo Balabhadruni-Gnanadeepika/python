{
 "cells": [
  {
   "cell_type": "code",
   "execution_count": 13,
   "id": "3e169926-c58c-48e8-b040-37183fe44336",
   "metadata": {},
   "outputs": [
    {
     "data": {
      "text/plain": [
       "497.30434782608694"
      ]
     },
     "execution_count": 13,
     "metadata": {},
     "output_type": "execute_result"
    }
   ],
   "source": [
    "7+(2-32)+23*23+(32-232)/23"
   ]
  },
  {
   "cell_type": "code",
   "execution_count": 15,
   "id": "22d96c25-ba5e-4586-84da-460db4004bfc",
   "metadata": {},
   "outputs": [
    {
     "data": {
      "text/plain": [
       "-483.30434782608694"
      ]
     },
     "execution_count": 15,
     "metadata": {},
     "output_type": "execute_result"
    }
   ],
   "source": [
    "7-(2-32)-23*23-(32-232)/23"
   ]
  },
  {
   "cell_type": "code",
   "execution_count": 17,
   "id": "19b97f58-039f-4b1d-aa15-820df633da5f",
   "metadata": {},
   "outputs": [
    {
     "data": {
      "text/plain": [
       "966000.0"
      ]
     },
     "execution_count": 17,
     "metadata": {},
     "output_type": "execute_result"
    }
   ],
   "source": [
    "7*(2-32)*23*23*(32-232)/23"
   ]
  },
  {
   "cell_type": "code",
   "execution_count": 19,
   "id": "aac36f33-c53b-4daa-8e17-6b52b61da01e",
   "metadata": {},
   "outputs": [
    {
     "data": {
      "text/plain": [
       "63.407407407407405"
      ]
     },
     "execution_count": 19,
     "metadata": {},
     "output_type": "execute_result"
    }
   ],
   "source": [
    "78-23+23+23+12+123-232+(34/54*34+4)+34"
   ]
  },
  {
   "cell_type": "code",
   "execution_count": 21,
   "id": "0de655c3-987b-4753-a833-8b180d56f791",
   "metadata": {},
   "outputs": [
    {
     "data": {
      "text/plain": [
       "-55.407407407407405"
      ]
     },
     "execution_count": 21,
     "metadata": {},
     "output_type": "execute_result"
    }
   ],
   "source": [
    "78-23+23+23+12+123-232-(34/54*34+4)-34"
   ]
  },
  {
   "cell_type": "code",
   "execution_count": 23,
   "id": "540acf57-3e19-4810-a6ad-79d7c55482fb",
   "metadata": {},
   "outputs": [
    {
     "data": {
      "text/plain": [
       "-200177.62962962966"
      ]
     },
     "execution_count": 23,
     "metadata": {},
     "output_type": "execute_result"
    }
   ],
   "source": [
    "78-23+23+23+12+123-232*(34/54*34+4)*34"
   ]
  },
  {
   "cell_type": "code",
   "execution_count": 5,
   "id": "c1085d39-09f1-4a53-b2d2-527749e47a59",
   "metadata": {},
   "outputs": [
    {
     "data": {
      "text/plain": [
       "-4029.6666666666665"
      ]
     },
     "execution_count": 5,
     "metadata": {},
     "output_type": "execute_result"
    }
   ],
   "source": [
    "67-6*3*(9-2)*32-32-23-(23/3)-2"
   ]
  },
  {
   "cell_type": "code",
   "execution_count": 7,
   "id": "841fcf2b-8288-4536-b79a-94a9d1d53d2b",
   "metadata": {},
   "outputs": [
    {
     "data": {
      "text/plain": [
       "-80"
      ]
     },
     "execution_count": 7,
     "metadata": {},
     "output_type": "execute_result"
    }
   ],
   "source": [
    "7+(78-(6*24))-21"
   ]
  },
  {
   "cell_type": "code",
   "execution_count": 9,
   "id": "6fb2b097-73ec-4f75-a9c5-901611f82d27",
   "metadata": {},
   "outputs": [
    {
     "data": {
      "text/plain": [
       "-41"
      ]
     },
     "execution_count": 9,
     "metadata": {},
     "output_type": "execute_result"
    }
   ],
   "source": [
    "7+(4*4)-8**2"
   ]
  },
  {
   "cell_type": "code",
   "execution_count": 11,
   "id": "f736336a-077b-43bf-b081-575fda5a1697",
   "metadata": {},
   "outputs": [
    {
     "data": {
      "text/plain": [
       "25.4"
      ]
     },
     "execution_count": 11,
     "metadata": {},
     "output_type": "execute_result"
    }
   ],
   "source": [
    "90-67+4*3/5"
   ]
  },
  {
   "cell_type": "code",
   "execution_count": null,
   "id": "7f619190-3486-411f-9c1f-5119b870b3c9",
   "metadata": {},
   "outputs": [],
   "source": []
  }
 ],
 "metadata": {
  "kernelspec": {
   "display_name": "Python 3 (ipykernel)",
   "language": "python",
   "name": "python3"
  },
  "language_info": {
   "codemirror_mode": {
    "name": "ipython",
    "version": 3
   },
   "file_extension": ".py",
   "mimetype": "text/x-python",
   "name": "python",
   "nbconvert_exporter": "python",
   "pygments_lexer": "ipython3",
   "version": "3.11.7"
  }
 },
 "nbformat": 4,
 "nbformat_minor": 5
}
